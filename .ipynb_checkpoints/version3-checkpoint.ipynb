{
 "cells": [
  {
   "cell_type": "code",
   "execution_count": 1,
   "id": "56a57836-f158-41a5-939b-96d4eeb64eba",
   "metadata": {},
   "outputs": [
    {
     "name": "stdin",
     "output_type": "stream",
     "text": [
      "Ingrese el número de nodos (actividades) (excluyendo INICIO y FINAL):  10\n"
     ]
    },
    {
     "name": "stdout",
     "output_type": "stream",
     "text": [
      "\n",
      "--- Ingreso de datos para la actividad 1 ---\n"
     ]
    },
    {
     "name": "stdin",
     "output_type": "stream",
     "text": [
      "Ingrese el nombre del nodo (solo letras mayúsculas):  A\n",
      "Ingrese el nombre de la actividad:  PRIMERO\n",
      "Ingrese el número de actividades (nodos) predecesoras (0 si depende de INICIO):  0\n",
      "Ingrese la duración de la actividad:  6\n"
     ]
    },
    {
     "name": "stdout",
     "output_type": "stream",
     "text": [
      "\n",
      "--- Ingreso de datos para la actividad 2 ---\n"
     ]
    },
    {
     "name": "stdin",
     "output_type": "stream",
     "text": [
      "Ingrese el nombre del nodo (solo letras mayúsculas):  B\n",
      "Ingrese el nombre de la actividad:  SEGUNDO\n",
      "Ingrese el número de actividades (nodos) predecesoras (0 si depende de INICIO):  0\n",
      "Ingrese la duración de la actividad:  1.6\n"
     ]
    },
    {
     "name": "stdout",
     "output_type": "stream",
     "text": [
      "\n",
      "--- Ingreso de datos para la actividad 3 ---\n"
     ]
    },
    {
     "name": "stdin",
     "output_type": "stream",
     "text": [
      "Ingrese el nombre del nodo (solo letras mayúsculas):  C\n",
      "Ingrese el nombre de la actividad:  TERCERA\n",
      "Ingrese el número de actividades (nodos) predecesoras (0 si depende de INICIO):  1\n",
      "Ingrese la duración de la actividad:  3\n",
      "Ingrese el nombre del nodo predecesor:  A\n",
      "Ingrese la duración de la actividad (nodo) A:  3\n"
     ]
    },
    {
     "name": "stdout",
     "output_type": "stream",
     "text": [
      "\n",
      "--- Ingreso de datos para la actividad 4 ---\n"
     ]
    },
    {
     "ename": "KeyboardInterrupt",
     "evalue": "Interrupted by user",
     "output_type": "error",
     "traceback": [
      "\u001b[31m---------------------------------------------------------------------------\u001b[39m",
      "\u001b[31mKeyboardInterrupt\u001b[39m                         Traceback (most recent call last)",
      "\u001b[36mCell\u001b[39m\u001b[36m \u001b[39m\u001b[32mIn[1]\u001b[39m\u001b[32m, line 133\u001b[39m\n\u001b[32m    130\u001b[39m     \u001b[38;5;28mprint\u001b[39m(\u001b[33mf\u001b[39m\u001b[33m\"\u001b[39m\u001b[38;5;130;01m\\n\u001b[39;00m\u001b[33mLa información se ha guardado correctamente en el archivo \u001b[39m\u001b[33m'\u001b[39m\u001b[38;5;132;01m{\u001b[39;00mnombre_archivo\u001b[38;5;132;01m}\u001b[39;00m\u001b[33m'\u001b[39m\u001b[33m.\u001b[39m\u001b[33m\"\u001b[39m)\n\u001b[32m    132\u001b[39m \u001b[38;5;28;01mif\u001b[39;00m \u001b[34m__name__\u001b[39m == \u001b[33m\"\u001b[39m\u001b[33m__main__\u001b[39m\u001b[33m\"\u001b[39m:\n\u001b[32m--> \u001b[39m\u001b[32m133\u001b[39m     \u001b[43mmain\u001b[49m\u001b[43m(\u001b[49m\u001b[43m)\u001b[49m\n",
      "\u001b[36mCell\u001b[39m\u001b[36m \u001b[39m\u001b[32mIn[1]\u001b[39m\u001b[32m, line 50\u001b[39m, in \u001b[36mmain\u001b[39m\u001b[34m()\u001b[39m\n\u001b[32m     48\u001b[39m \u001b[38;5;28;01mfor\u001b[39;00m idx \u001b[38;5;129;01min\u001b[39;00m \u001b[38;5;28mrange\u001b[39m(num_nodos):\n\u001b[32m     49\u001b[39m     \u001b[38;5;28mprint\u001b[39m(\u001b[33mf\u001b[39m\u001b[33m\"\u001b[39m\u001b[38;5;130;01m\\n\u001b[39;00m\u001b[33m--- Ingreso de datos para la actividad \u001b[39m\u001b[38;5;132;01m{\u001b[39;00midx+\u001b[32m1\u001b[39m\u001b[38;5;132;01m}\u001b[39;00m\u001b[33m ---\u001b[39m\u001b[33m\"\u001b[39m)\n\u001b[32m---> \u001b[39m\u001b[32m50\u001b[39m     nodo = \u001b[43mget_uppercase\u001b[49m\u001b[43m(\u001b[49m\u001b[33;43m\"\u001b[39;49m\u001b[33;43mIngrese el nombre del nodo (solo letras mayúsculas): \u001b[39;49m\u001b[33;43m\"\u001b[39;49m\u001b[43m)\u001b[49m\n\u001b[32m     51\u001b[39m     actividad = get_string(\u001b[33m\"\u001b[39m\u001b[33mIngrese el nombre de la actividad: \u001b[39m\u001b[33m\"\u001b[39m)\n\u001b[32m     52\u001b[39m     num_predecesores = get_int(\u001b[33m\"\u001b[39m\u001b[33mIngrese el número de actividades (nodos) predecesoras (0 si depende de INICIO): \u001b[39m\u001b[33m\"\u001b[39m)\n",
      "\u001b[36mCell\u001b[39m\u001b[36m \u001b[39m\u001b[32mIn[1]\u001b[39m\u001b[32m, line 19\u001b[39m, in \u001b[36mget_uppercase\u001b[39m\u001b[34m(prompt)\u001b[39m\n\u001b[32m     17\u001b[39m \u001b[38;5;28;01mdef\u001b[39;00m\u001b[38;5;250m \u001b[39m\u001b[34mget_uppercase\u001b[39m(prompt):\n\u001b[32m     18\u001b[39m     \u001b[38;5;28;01mwhile\u001b[39;00m \u001b[38;5;28;01mTrue\u001b[39;00m:\n\u001b[32m---> \u001b[39m\u001b[32m19\u001b[39m         s = \u001b[38;5;28;43minput\u001b[39;49m\u001b[43m(\u001b[49m\u001b[43mprompt\u001b[49m\u001b[43m)\u001b[49m.strip()\n\u001b[32m     20\u001b[39m         \u001b[38;5;28;01mif\u001b[39;00m s.isalpha() \u001b[38;5;129;01mand\u001b[39;00m s == s.upper():\n\u001b[32m     21\u001b[39m             \u001b[38;5;28;01mreturn\u001b[39;00m s\n",
      "\u001b[36mFile \u001b[39m\u001b[32m~\\Documents\\workspace\\PERT_and_CPM\\.venv\\Lib\\site-packages\\ipykernel\\kernelbase.py:1282\u001b[39m, in \u001b[36mKernel.raw_input\u001b[39m\u001b[34m(self, prompt)\u001b[39m\n\u001b[32m   1280\u001b[39m     msg = \u001b[33m\"\u001b[39m\u001b[33mraw_input was called, but this frontend does not support input requests.\u001b[39m\u001b[33m\"\u001b[39m\n\u001b[32m   1281\u001b[39m     \u001b[38;5;28;01mraise\u001b[39;00m StdinNotImplementedError(msg)\n\u001b[32m-> \u001b[39m\u001b[32m1282\u001b[39m \u001b[38;5;28;01mreturn\u001b[39;00m \u001b[38;5;28;43mself\u001b[39;49m\u001b[43m.\u001b[49m\u001b[43m_input_request\u001b[49m\u001b[43m(\u001b[49m\n\u001b[32m   1283\u001b[39m \u001b[43m    \u001b[49m\u001b[38;5;28;43mstr\u001b[39;49m\u001b[43m(\u001b[49m\u001b[43mprompt\u001b[49m\u001b[43m)\u001b[49m\u001b[43m,\u001b[49m\n\u001b[32m   1284\u001b[39m \u001b[43m    \u001b[49m\u001b[38;5;28;43mself\u001b[39;49m\u001b[43m.\u001b[49m\u001b[43m_parent_ident\u001b[49m\u001b[43m[\u001b[49m\u001b[33;43m\"\u001b[39;49m\u001b[33;43mshell\u001b[39;49m\u001b[33;43m\"\u001b[39;49m\u001b[43m]\u001b[49m\u001b[43m,\u001b[49m\n\u001b[32m   1285\u001b[39m \u001b[43m    \u001b[49m\u001b[38;5;28;43mself\u001b[39;49m\u001b[43m.\u001b[49m\u001b[43mget_parent\u001b[49m\u001b[43m(\u001b[49m\u001b[33;43m\"\u001b[39;49m\u001b[33;43mshell\u001b[39;49m\u001b[33;43m\"\u001b[39;49m\u001b[43m)\u001b[49m\u001b[43m,\u001b[49m\n\u001b[32m   1286\u001b[39m \u001b[43m    \u001b[49m\u001b[43mpassword\u001b[49m\u001b[43m=\u001b[49m\u001b[38;5;28;43;01mFalse\u001b[39;49;00m\u001b[43m,\u001b[49m\n\u001b[32m   1287\u001b[39m \u001b[43m\u001b[49m\u001b[43m)\u001b[49m\n",
      "\u001b[36mFile \u001b[39m\u001b[32m~\\Documents\\workspace\\PERT_and_CPM\\.venv\\Lib\\site-packages\\ipykernel\\kernelbase.py:1325\u001b[39m, in \u001b[36mKernel._input_request\u001b[39m\u001b[34m(self, prompt, ident, parent, password)\u001b[39m\n\u001b[32m   1322\u001b[39m \u001b[38;5;28;01mexcept\u001b[39;00m \u001b[38;5;167;01mKeyboardInterrupt\u001b[39;00m:\n\u001b[32m   1323\u001b[39m     \u001b[38;5;66;03m# re-raise KeyboardInterrupt, to truncate traceback\u001b[39;00m\n\u001b[32m   1324\u001b[39m     msg = \u001b[33m\"\u001b[39m\u001b[33mInterrupted by user\u001b[39m\u001b[33m\"\u001b[39m\n\u001b[32m-> \u001b[39m\u001b[32m1325\u001b[39m     \u001b[38;5;28;01mraise\u001b[39;00m \u001b[38;5;167;01mKeyboardInterrupt\u001b[39;00m(msg) \u001b[38;5;28;01mfrom\u001b[39;00m\u001b[38;5;250m \u001b[39m\u001b[38;5;28;01mNone\u001b[39;00m\n\u001b[32m   1326\u001b[39m \u001b[38;5;28;01mexcept\u001b[39;00m \u001b[38;5;167;01mException\u001b[39;00m:\n\u001b[32m   1327\u001b[39m     \u001b[38;5;28mself\u001b[39m.log.warning(\u001b[33m\"\u001b[39m\u001b[33mInvalid Message:\u001b[39m\u001b[33m\"\u001b[39m, exc_info=\u001b[38;5;28;01mTrue\u001b[39;00m)\n",
      "\u001b[31mKeyboardInterrupt\u001b[39m: Interrupted by user"
     ]
    }
   ],
   "source": [
    "import csv\n",
    "\n",
    "def get_int(prompt):\n",
    "    while True:\n",
    "        try:\n",
    "            return int(input(prompt))\n",
    "        except ValueError:\n",
    "            print(\"Error: Ingresa un número entero.\")\n",
    "\n",
    "def get_float(prompt):\n",
    "    while True:\n",
    "        try:\n",
    "            return float(input(prompt))\n",
    "        except ValueError:\n",
    "            print(\"Error: Ingresa un número (entero o decimal).\")\n",
    "\n",
    "def get_uppercase(prompt):\n",
    "    while True:\n",
    "        s = input(prompt).strip()\n",
    "        if s.isalpha() and s == s.upper():\n",
    "            return s\n",
    "        else:\n",
    "            print(\"Error: Ingresa solo letras mayúsculas.\")\n",
    "\n",
    "def get_string(prompt):\n",
    "    return input(prompt).strip()\n",
    "\n",
    "def main():\n",
    "    filas = []\n",
    "    \n",
    "    # Nodo INICIO: siempre se crea primero con par ordenado (0,0)\n",
    "    inicio_j = 0\n",
    "    filas.append({\n",
    "        \"Nodo\": \"INICIO\",\n",
    "        \"Par ordenado (i,j)\": f\"({inicio_j},{inicio_j})\",\n",
    "        \"Tiempo de actividad (t_i)\": 0,\n",
    "        \"Predecesor\": \"\",\n",
    "        \"Actividad\": \"INICIO\"\n",
    "    })\n",
    "    \n",
    "    # current_j servirá para asignar secuencialmente la coordenada final (j) a cada actividad\n",
    "    # pred_mapping guarda el \"j\" final asignado a cada nodo (para usarse como \"i\" en actividades sucesoras)\n",
    "    current_j = inicio_j\n",
    "    pred_mapping = {\"INICIO\": inicio_j}\n",
    "    \n",
    "    num_nodos = get_int(\"Ingrese el número de nodos (actividades) (excluyendo INICIO y FINAL): \")\n",
    "    \n",
    "    for idx in range(num_nodos):\n",
    "        print(f\"\\n--- Ingreso de datos para la actividad {idx+1} ---\")\n",
    "        nodo = get_uppercase(\"Ingrese el nombre del nodo (solo letras mayúsculas): \")\n",
    "        actividad = get_string(\"Ingrese el nombre de la actividad: \")\n",
    "        num_predecesores = get_int(\"Ingrese el número de actividades (nodos) predecesoras (0 si depende de INICIO): \")\n",
    "        # Siempre se solicita la duración de la actividad actual\n",
    "        duracion = get_float(\"Ingrese la duración de la actividad: \")\n",
    "        \n",
    "        # Se asigna un nuevo valor de \"j\" para el nodo actual (único para la actividad)\n",
    "        new_j = current_j + 1\n",
    "        \n",
    "        if num_predecesores == 0:\n",
    "            # Depende solamente de INICIO\n",
    "            i_val = pred_mapping[\"INICIO\"]\n",
    "            filas.append({\n",
    "                \"Nodo\": nodo,\n",
    "                \"Par ordenado (i,j)\": f\"({i_val},{new_j})\",\n",
    "                \"Tiempo de actividad (t_i)\": duracion,\n",
    "                \"Predecesor\": \"INICIO\",\n",
    "                \"Actividad\": actividad\n",
    "            })\n",
    "        elif num_predecesores == 1:\n",
    "            # Si es solo una actividad predecesora, inmediatamente se pregunta el nombre y la duración\n",
    "            pred = get_uppercase(\"Ingrese el nombre del nodo predecesor: \")\n",
    "            pred_dur = get_float(f\"Ingrese la duración de la actividad (nodo) {pred}: \")\n",
    "            if pred in pred_mapping:\n",
    "                i_val = pred_mapping[pred]\n",
    "            else:\n",
    "                print(f\"Advertencia: Predecesor {pred} no encontrado. Se usará INICIO por defecto.\")\n",
    "                i_val = pred_mapping[\"INICIO\"]\n",
    "            filas.append({\n",
    "                \"Nodo\": nodo,\n",
    "                \"Par ordenado (i,j)\": f\"({i_val},{new_j})\",\n",
    "                \"Tiempo de actividad (t_i)\": duracion,\n",
    "                \"Predecesor\": f\"{pred} (dur: {pred_dur})\",\n",
    "                \"Actividad\": actividad\n",
    "            })\n",
    "        elif num_predecesores >= 2:\n",
    "            # Si hay 2 o más, se itera pidiendo para cada predecesor su nombre y, posteriormente, su duración.\n",
    "            for i in range(num_predecesores):\n",
    "                pred = get_uppercase(f\"Ingrese el nombre del nodo predecesor {i+1}: \")\n",
    "                pred_dur = get_float(f\"Ingrese la duración de la actividad (nodo) {pred}: \")\n",
    "                if pred in pred_mapping:\n",
    "                    i_val = pred_mapping[pred]\n",
    "                else:\n",
    "                    print(f\"Advertencia: Predecesor {pred} no encontrado. Se usará INICIO por defecto.\")\n",
    "                    i_val = pred_mapping[\"INICIO\"]\n",
    "                filas.append({\n",
    "                    \"Nodo\": nodo,\n",
    "                    \"Par ordenado (i,j)\": f\"({i_val},{new_j})\",\n",
    "                    \"Tiempo de actividad (t_i)\": duracion,\n",
    "                    \"Predecesor\": f\"{pred} (dur: {pred_dur})\",\n",
    "                    \"Actividad\": actividad\n",
    "                })\n",
    "                \n",
    "        # Se actualiza el mapeo con la nueva coordenada \"j\" asignada al nodo actual.\n",
    "        pred_mapping[nodo] = new_j\n",
    "        current_j = new_j\n",
    "    \n",
    "    # Finalmente se ingresa el nodo FINAL.\n",
    "    print(\"\\n--- Nodo FINAL ---\")\n",
    "    final_actividad = get_string(\"Ingrese el nombre de la actividad para el nodo FINAL: \")\n",
    "    # Se toma como predecesor el último nodo ingresado.\n",
    "    final_predecesor = nodo if num_nodos > 0 else \"INICIO\"\n",
    "    final_j = pred_mapping[final_predecesor]\n",
    "    filas.append({\n",
    "        \"Nodo\": \"FINAL\",\n",
    "        \"Par ordenado (i,j)\": f\"({final_j},{final_j})\",\n",
    "        \"Tiempo de actividad (t_i)\": 0,\n",
    "        \"Predecesor\": final_predecesor,\n",
    "        \"Actividad\": final_actividad\n",
    "    })\n",
    "    \n",
    "    # Se guarda toda la información en el archivo CSV \"actividades.csv\"\n",
    "    nombre_archivo = \"actividades.csv\"\n",
    "    with open(nombre_archivo, mode='w', newline='', encoding='utf-8') as archivo_csv:\n",
    "        campos = [\"Nodo\", \"Par ordenado (i,j)\", \"Tiempo de actividad (t_i)\", \"Predecesor\", \"Actividad\"]\n",
    "        escritor = csv.DictWriter(archivo_csv, fieldnames=campos)\n",
    "        escritor.writeheader()\n",
    "        for fila in filas:\n",
    "            escritor.writerow(fila)\n",
    "    \n",
    "    print(f\"\\nLa información se ha guardado correctamente en el archivo '{nombre_archivo}'.\")\n",
    "\n",
    "if __name__ == \"__main__\":\n",
    "    main()\n"
   ]
  },
  {
   "cell_type": "code",
   "execution_count": 9,
   "id": "c92fbbf7-63d8-46d7-96d7-c18e0707bafd",
   "metadata": {},
   "outputs": [
    {
     "name": "stdin",
     "output_type": "stream",
     "text": [
      "Ingrese el número de nodos (actividades):  25\n"
     ]
    },
    {
     "name": "stdout",
     "output_type": "stream",
     "text": [
      "\n",
      "--- Ingreso de datos para la actividad 1 ---\n"
     ]
    },
    {
     "name": "stdin",
     "output_type": "stream",
     "text": [
      "Ingrese el nombre del nodo (solo letras mayúsculas):  A\n",
      "Ingrese el nombre de la actividad:  Reunión con el cliente para entender el problema\n",
      "Ingrese el número de actividades (nodos) predecesoras (0 si depende de INICIO):  0\n",
      "Ingrese la duración de la actividad:  2\n"
     ]
    },
    {
     "name": "stdout",
     "output_type": "stream",
     "text": [
      "\n",
      "--- Ingreso de datos para la actividad 2 ---\n"
     ]
    },
    {
     "name": "stdin",
     "output_type": "stream",
     "text": [
      "Ingrese el nombre del nodo (solo letras mayúsculas):  B\n",
      "Ingrese el nombre de la actividad:  Redacción de requisitos funcionales y no funcionales\n",
      "Ingrese el número de actividades (nodos) predecesoras (0 si depende de INICIO):  1\n",
      "Ingrese la duración de la actividad:  3.17\n",
      "Ingrese el nombre del nodo predecesor 1:  A\n",
      "Ingrese la duración de la actividad (nodo) A:  3.17\n"
     ]
    },
    {
     "name": "stdout",
     "output_type": "stream",
     "text": [
      "\n",
      "--- Ingreso de datos para la actividad 3 ---\n"
     ]
    },
    {
     "name": "stdin",
     "output_type": "stream",
     "text": [
      "Ingrese el nombre del nodo (solo letras mayúsculas):  C\n",
      "Ingrese el nombre de la actividad:  Estudio de factibilidad técnica y elección de tecnologías\n",
      "Ingrese el número de actividades (nodos) predecesoras (0 si depende de INICIO):  1\n",
      "Ingrese la duración de la actividad:  3\n",
      "Ingrese el nombre del nodo predecesor 1:  B\n",
      "Ingrese la duración de la actividad (nodo) B:  3\n"
     ]
    },
    {
     "name": "stdout",
     "output_type": "stream",
     "text": [
      "\n",
      "--- Ingreso de datos para la actividad 4 ---\n"
     ]
    },
    {
     "name": "stdin",
     "output_type": "stream",
     "text": [
      "Ingrese el nombre del nodo (solo letras mayúsculas):  D\n",
      "Ingrese el nombre de la actividad:  Diseño del sistema (arquitectura general, componentes)\n",
      "Ingrese el número de actividades (nodos) predecesoras (0 si depende de INICIO):  2\n",
      "Ingrese la duración de la actividad:  5\n",
      "Ingrese el nombre del nodo predecesor 1:  B\n",
      "Ingrese la duración de la actividad (nodo) B:  5\n",
      "Ingrese el nombre del nodo predecesor 2:  A\n",
      "Ingrese la duración de la actividad (nodo) A:  5\n"
     ]
    },
    {
     "name": "stdout",
     "output_type": "stream",
     "text": [
      "\n",
      "--- Ingreso de datos para la actividad 5 ---\n"
     ]
    },
    {
     "name": "stdin",
     "output_type": "stream",
     "text": [
      "Ingrese el nombre del nodo (solo letras mayúsculas):  E\n",
      "Ingrese el nombre de la actividad:  Aprobación del cliente sobre el plan de desarrollo\n",
      "Ingrese el número de actividades (nodos) predecesoras (0 si depende de INICIO):  1\n",
      "Ingrese la duración de la actividad:  2\n",
      "Ingrese el nombre del nodo predecesor 1:  D\n",
      "Ingrese la duración de la actividad (nodo) D:  2\n"
     ]
    },
    {
     "name": "stdout",
     "output_type": "stream",
     "text": [
      "\n",
      "--- Ingreso de datos para la actividad 6 ---\n"
     ]
    },
    {
     "name": "stdin",
     "output_type": "stream",
     "text": [
      "Ingrese el nombre del nodo (solo letras mayúsculas):  F\n",
      "Ingrese el nombre de la actividad:  Creación de estructura de carpetas del proyecto\n",
      "Ingrese el número de actividades (nodos) predecesoras (0 si depende de INICIO):  1\n",
      "Ingrese la duración de la actividad:  1.17\n",
      "Ingrese el nombre del nodo predecesor 1:  E\n",
      "Ingrese la duración de la actividad (nodo) E:  1.17\n"
     ]
    },
    {
     "name": "stdout",
     "output_type": "stream",
     "text": [
      "\n",
      "--- Ingreso de datos para la actividad 7 ---\n"
     ]
    },
    {
     "name": "stdin",
     "output_type": "stream",
     "text": [
      "Ingrese el nombre del nodo (solo letras mayúsculas):  G\n",
      "Ingrese el nombre de la actividad:  Configuración de herramientas de desarrollo\n",
      "Ingrese el número de actividades (nodos) predecesoras (0 si depende de INICIO):  1\n",
      "Ingrese la duración de la actividad:  2\n",
      "Ingrese el nombre del nodo predecesor 1:  F\n",
      "Ingrese la duración de la actividad (nodo) F:  2\n"
     ]
    },
    {
     "name": "stdout",
     "output_type": "stream",
     "text": [
      "\n",
      "--- Ingreso de datos para la actividad 8 ---\n"
     ]
    },
    {
     "name": "stdin",
     "output_type": "stream",
     "text": [
      "Ingrese el nombre del nodo (solo letras mayúsculas):  H\n",
      "Ingrese el nombre de la actividad:  Generación de datos de prueba\n",
      "Ingrese el número de actividades (nodos) predecesoras (0 si depende de INICIO):  1\n",
      "Ingrese la duración de la actividad:  2\n",
      "Ingrese el nombre del nodo predecesor 1:  F\n",
      "Ingrese la duración de la actividad (nodo) F:  2\n"
     ]
    },
    {
     "name": "stdout",
     "output_type": "stream",
     "text": [
      "\n",
      "--- Ingreso de datos para la actividad 9 ---\n"
     ]
    },
    {
     "name": "stdin",
     "output_type": "stream",
     "text": [
      "Ingrese el nombre del nodo (solo letras mayúsculas):  I\n",
      "Ingrese el nombre de la actividad:  Diseño de conjunto mínimo variable de datos\n",
      "Ingrese el número de actividades (nodos) predecesoras (0 si depende de INICIO):  1\n",
      "Ingrese la duración de la actividad:  1.17\n",
      "Ingrese el nombre del nodo predecesor 1:  H\n",
      "Ingrese la duración de la actividad (nodo) H:  1.17\n"
     ]
    },
    {
     "name": "stdout",
     "output_type": "stream",
     "text": [
      "\n",
      "--- Ingreso de datos para la actividad 10 ---\n"
     ]
    },
    {
     "name": "stdin",
     "output_type": "stream",
     "text": [
      "Ingrese el nombre del nodo (solo letras mayúsculas):  J\n",
      "Ingrese el nombre de la actividad:  Desarrollo del módulo de lectura de datos\n",
      "Ingrese el número de actividades (nodos) predecesoras (0 si depende de INICIO):  1\n",
      "Ingrese la duración de la actividad:  3\n",
      "Ingrese el nombre del nodo predecesor 1:  G\n",
      "Ingrese la duración de la actividad (nodo) G:  3\n"
     ]
    },
    {
     "name": "stdout",
     "output_type": "stream",
     "text": [
      "\n",
      "--- Ingreso de datos para la actividad 11 ---\n"
     ]
    },
    {
     "name": "stdin",
     "output_type": "stream",
     "text": [
      "Ingrese el nombre del nodo (solo letras mayúsculas):  K\n",
      "Ingrese el nombre de la actividad:  Desarrollo de estructuras de datos\n",
      "Ingrese el número de actividades (nodos) predecesoras (0 si depende de INICIO):  1\n",
      "Ingrese la duración de la actividad:  2\n",
      "Ingrese el nombre del nodo predecesor 1:  G\n",
      "Ingrese la duración de la actividad (nodo) G:  2\n"
     ]
    },
    {
     "name": "stdout",
     "output_type": "stream",
     "text": [
      "\n",
      "--- Ingreso de datos para la actividad 12 ---\n"
     ]
    },
    {
     "name": "stdin",
     "output_type": "stream",
     "text": [
      "Ingrese el nombre del nodo (solo letras mayúsculas):  L\n",
      "Ingrese el nombre de la actividad:  Desarrollo del módulo de detección de anomalias\n",
      "Ingrese el número de actividades (nodos) predecesoras (0 si depende de INICIO):  2\n",
      "Ingrese la duración de la actividad:  3.17\n",
      "Ingrese el nombre del nodo predecesor 1:  J\n",
      "Ingrese la duración de la actividad (nodo) J:  3.17\n",
      "Ingrese el nombre del nodo predecesor 2:  K\n",
      "Ingrese la duración de la actividad (nodo) K:  3.17\n"
     ]
    },
    {
     "name": "stdout",
     "output_type": "stream",
     "text": [
      "\n",
      "--- Ingreso de datos para la actividad 13 ---\n"
     ]
    },
    {
     "name": "stdin",
     "output_type": "stream",
     "text": [
      "Ingrese el nombre del nodo (solo letras mayúsculas):  M\n",
      "Ingrese el nombre de la actividad:  Implementación de lógica estadística\n",
      "Ingrese el número de actividades (nodos) predecesoras (0 si depende de INICIO):  1\n",
      "Ingrese la duración de la actividad:  3\n",
      "Ingrese el nombre del nodo predecesor 1:  L\n",
      "Ingrese la duración de la actividad (nodo) L:  3\n"
     ]
    },
    {
     "name": "stdout",
     "output_type": "stream",
     "text": [
      "\n",
      "--- Ingreso de datos para la actividad 14 ---\n"
     ]
    },
    {
     "name": "stdin",
     "output_type": "stream",
     "text": [
      "Ingrese el nombre del nodo (solo letras mayúsculas):  N\n",
      "Ingrese el nombre de la actividad:  Desarrollo del módulo de escritura de resultados\n",
      "Ingrese el número de actividades (nodos) predecesoras (0 si depende de INICIO):  1\n",
      "Ingrese la duración de la actividad:  2\n",
      "Ingrese el nombre del nodo predecesor 1:  M\n",
      "Ingrese la duración de la actividad (nodo) M:  2\n"
     ]
    },
    {
     "name": "stdout",
     "output_type": "stream",
     "text": [
      "\n",
      "--- Ingreso de datos para la actividad 15 ---\n"
     ]
    },
    {
     "name": "stdin",
     "output_type": "stream",
     "text": [
      "Ingrese el nombre del nodo (solo letras mayúsculas):  O\n",
      "Ingrese el nombre de la actividad:  Integración del sistema en maincpp\n",
      "Ingrese el número de actividades (nodos) predecesoras (0 si depende de INICIO):  1\n",
      "Ingrese la duración de la actividad:  2\n",
      "Ingrese el nombre del nodo predecesor 1:  N\n",
      "Ingrese la duración de la actividad (nodo) N:  2\n"
     ]
    },
    {
     "name": "stdout",
     "output_type": "stream",
     "text": [
      "\n",
      "--- Ingreso de datos para la actividad 16 ---\n"
     ]
    },
    {
     "name": "stdin",
     "output_type": "stream",
     "text": [
      "Ingrese el nombre del nodo (solo letras mayúsculas):  P\n",
      "Ingrese el nombre de la actividad:  Pruebas unitarias de cada módulo\n",
      "Ingrese el número de actividades (nodos) predecesoras (0 si depende de INICIO):  1\n",
      "Ingrese la duración de la actividad:  2\n",
      "Ingrese el nombre del nodo predecesor 1:  O\n",
      "Ingrese la duración de la actividad (nodo) O:  2\n"
     ]
    },
    {
     "name": "stdout",
     "output_type": "stream",
     "text": [
      "\n",
      "--- Ingreso de datos para la actividad 17 ---\n"
     ]
    },
    {
     "name": "stdin",
     "output_type": "stream",
     "text": [
      "Ingrese el nombre del nodo (solo letras mayúsculas):  Q\n",
      "Ingrese el nombre de la actividad:  Pruebas funcionales de extremo a extremo\n",
      "Ingrese el número de actividades (nodos) predecesoras (0 si depende de INICIO):  1\n",
      "Ingrese la duración de la actividad:  2\n",
      "Ingrese el nombre del nodo predecesor 1:  P\n",
      "Ingrese la duración de la actividad (nodo) P:  2\n"
     ]
    },
    {
     "name": "stdout",
     "output_type": "stream",
     "text": [
      "\n",
      "--- Ingreso de datos para la actividad 18 ---\n"
     ]
    },
    {
     "name": "stdin",
     "output_type": "stream",
     "text": [
      "Ingrese el nombre del nodo (solo letras mayúsculas):  R\n",
      "Ingrese el nombre de la actividad:  Pruebas de estrés con grandes volúmenes de datos\n",
      "Ingrese el número de actividades (nodos) predecesoras (0 si depende de INICIO):  1\n",
      "Ingrese la duración de la actividad:  Q\n"
     ]
    },
    {
     "name": "stdout",
     "output_type": "stream",
     "text": [
      "Error: Ingresa un número (entero o decimal).\n"
     ]
    },
    {
     "name": "stdin",
     "output_type": "stream",
     "text": [
      "Ingrese la duración de la actividad:  3\n",
      "Ingrese el nombre del nodo predecesor 1:  Q\n",
      "Ingrese la duración de la actividad (nodo) Q:  3\n"
     ]
    },
    {
     "name": "stdout",
     "output_type": "stream",
     "text": [
      "\n",
      "--- Ingreso de datos para la actividad 19 ---\n"
     ]
    },
    {
     "name": "stdin",
     "output_type": "stream",
     "text": [
      "Ingrese el nombre del nodo (solo letras mayúsculas):  S\n",
      "Ingrese el nombre de la actividad:  Optimización de rendimiento\n",
      "Ingrese el número de actividades (nodos) predecesoras (0 si depende de INICIO):  1\n",
      "Ingrese la duración de la actividad:  1.17\n",
      "Ingrese el nombre del nodo predecesor 1:  R\n",
      "Ingrese la duración de la actividad (nodo) R:  1.17\n"
     ]
    },
    {
     "name": "stdout",
     "output_type": "stream",
     "text": [
      "\n",
      "--- Ingreso de datos para la actividad 20 ---\n"
     ]
    },
    {
     "name": "stdin",
     "output_type": "stream",
     "text": [
      "Ingrese el nombre del nodo (solo letras mayúsculas):  T\n",
      "Ingrese el nombre de la actividad:  Redacción de documentación técnica\n",
      "Ingrese el número de actividades (nodos) predecesoras (0 si depende de INICIO):  1\n",
      "Ingrese la duración de la actividad:  3\n",
      "Ingrese el nombre del nodo predecesor 1:  O\n",
      "Ingrese la duración de la actividad (nodo) O:  3\n"
     ]
    },
    {
     "name": "stdout",
     "output_type": "stream",
     "text": [
      "\n",
      "--- Ingreso de datos para la actividad 21 ---\n"
     ]
    },
    {
     "name": "stdin",
     "output_type": "stream",
     "text": [
      "Ingrese el nombre del nodo (solo letras mayúsculas):  U\n",
      "Ingrese el nombre de la actividad:  Creación del ejecutable final y empaquetado\n",
      "Ingrese el número de actividades (nodos) predecesoras (0 si depende de INICIO):  2\n",
      "Ingrese la duración de la actividad:  2\n",
      "Ingrese el nombre del nodo predecesor 1:  S\n",
      "Ingrese la duración de la actividad (nodo) S:  2\n",
      "Ingrese el nombre del nodo predecesor 2:  T\n",
      "Ingrese la duración de la actividad (nodo) T:  2\n"
     ]
    },
    {
     "name": "stdout",
     "output_type": "stream",
     "text": [
      "\n",
      "--- Ingreso de datos para la actividad 22 ---\n"
     ]
    },
    {
     "name": "stdin",
     "output_type": "stream",
     "text": [
      "Ingrese el nombre del nodo (solo letras mayúsculas):  V\n",
      "Ingrese el nombre de la actividad:  Generación de presentación para el cliente\n",
      "Ingrese el número de actividades (nodos) predecesoras (0 si depende de INICIO):  1\n",
      "Ingrese la duración de la actividad:  2\n",
      "Ingrese el nombre del nodo predecesor 1:  U\n",
      "Ingrese la duración de la actividad (nodo) U:  2\n"
     ]
    },
    {
     "name": "stdout",
     "output_type": "stream",
     "text": [
      "\n",
      "--- Ingreso de datos para la actividad 23 ---\n"
     ]
    },
    {
     "name": "stdin",
     "output_type": "stream",
     "text": [
      "Ingrese el nombre del nodo (solo letras mayúsculas):  W\n",
      "Ingrese el nombre de la actividad:  Entrega del software al cliente\n",
      "Ingrese el número de actividades (nodos) predecesoras (0 si depende de INICIO):  1\n",
      "Ingrese la duración de la actividad:  1.17\n",
      "Ingrese el nombre del nodo predecesor 1:  V\n",
      "Ingrese la duración de la actividad (nodo) V:  1.17\n"
     ]
    },
    {
     "name": "stdout",
     "output_type": "stream",
     "text": [
      "\n",
      "--- Ingreso de datos para la actividad 24 ---\n"
     ]
    },
    {
     "name": "stdin",
     "output_type": "stream",
     "text": [
      "Ingrese el nombre del nodo (solo letras mayúsculas):  X\n",
      "Ingrese el nombre de la actividad:  Reunión de demostración y retroalimentación\n",
      "Ingrese el número de actividades (nodos) predecesoras (0 si depende de INICIO):  1\n",
      "Ingrese la duración de la actividad:  1.17\n",
      "Ingrese el nombre del nodo predecesor 1:  W\n",
      "Ingrese la duración de la actividad (nodo) W:  1.17\n"
     ]
    },
    {
     "name": "stdout",
     "output_type": "stream",
     "text": [
      "\n",
      "--- Ingreso de datos para la actividad 25 ---\n"
     ]
    },
    {
     "name": "stdin",
     "output_type": "stream",
     "text": [
      "Ingrese el nombre del nodo (solo letras mayúsculas):  Y\n",
      "Ingrese el nombre de la actividad:  Registro de lecciones aprendidas\n",
      "Ingrese el número de actividades (nodos) predecesoras (0 si depende de INICIO):  1\n",
      "Ingrese la duración de la actividad:  1\n",
      "Ingrese el nombre del nodo predecesor 1:  X\n",
      "Ingrese la duración de la actividad (nodo) X:  1\n"
     ]
    },
    {
     "name": "stdout",
     "output_type": "stream",
     "text": [
      "\n",
      "--- Nodo FINAL ---\n"
     ]
    },
    {
     "name": "stdin",
     "output_type": "stream",
     "text": [
      "Ingrese el nombre de la actividad para el nodo FINAL:  FINAL\n"
     ]
    },
    {
     "name": "stdout",
     "output_type": "stream",
     "text": [
      "\n",
      "La información se ha guardado correctamente en el archivo 'actividades.csv'.\n"
     ]
    }
   ],
   "source": [
    "import csv\n",
    "\n",
    "def get_int(prompt):\n",
    "    while True:\n",
    "        try:\n",
    "            return int(input(prompt))\n",
    "        except ValueError:\n",
    "            print(\"Error: Ingresa un número entero.\")\n",
    "\n",
    "def get_float(prompt):\n",
    "    while True:\n",
    "        try:\n",
    "            return float(input(prompt))\n",
    "        except ValueError:\n",
    "            print(\"Error: Ingresa un número (entero o decimal).\")\n",
    "\n",
    "def get_uppercase(prompt):\n",
    "    while True:\n",
    "        s = input(prompt).strip()\n",
    "        if s.isalpha() and s == s.upper():\n",
    "            return s\n",
    "        else:\n",
    "            print(\"Error: Ingresa solo letras mayúsculas.\")\n",
    "\n",
    "def get_string(prompt):\n",
    "    return input(prompt).strip()\n",
    "\n",
    "def main():\n",
    "    filas = []\n",
    "    \n",
    "    # Nodo INICIO predefinido\n",
    "    inicio_j = 0\n",
    "    filas.append({\n",
    "        \"Nodo\": \"INICIO\",\n",
    "        \"Par ordenado (i,j)\": f\"({inicio_j},{inicio_j})\",\n",
    "        \"Tiempo de actividad (t_i)\": 0,\n",
    "        \"Predecesor\": \"\",\n",
    "        \"Actividad\": \"INICIO\"\n",
    "    })\n",
    "    \n",
    "    # current_j: contador para asignar nuevos valores de 'j'\n",
    "    # pred_mapping: almacena para cada nodo ingresado su valor de 'j'\n",
    "    current_j = inicio_j\n",
    "    pred_mapping = {\"INICIO\": inicio_j}\n",
    "    \n",
    "    # Se pide al usuario el número de nodos (actividades) intermedias (excluyendo INICIO y FINAL)\n",
    "    num_nodos = get_int(\"Ingrese el número de nodos (actividades): \")\n",
    "    \n",
    "    # Procesamos cada actividad ingresada\n",
    "    for idx in range(num_nodos):\n",
    "        print(f\"\\n--- Ingreso de datos para la actividad {idx+1} ---\")\n",
    "        nodo = get_uppercase(\"Ingrese el nombre del nodo (solo letras mayúsculas): \")\n",
    "        actividad = get_string(\"Ingrese el nombre de la actividad: \")\n",
    "        \n",
    "        # Se pide el número de nodos predecesores para esta actividad\n",
    "        num_predecesores = get_int(\"Ingrese el número de actividades (nodos) predecesoras (0 si depende de INICIO): \")\n",
    "        \n",
    "        # Se solicita la duración de la actividad actual (t_i)\n",
    "        duracion = get_float(\"Ingrese la duración de la actividad: \")\n",
    "        \n",
    "        # Se asigna un nuevo valor de \"j\" para este nodo (par ordenado único)\n",
    "        new_j = current_j + 1\n",
    "        \n",
    "        if num_predecesores == 0:\n",
    "            # Si no hay predecesores, la actividad depende de INICIO\n",
    "            i_val = pred_mapping[\"INICIO\"]\n",
    "            filas.append({\n",
    "                \"Nodo\": nodo,\n",
    "                \"Par ordenado (i,j)\": f\"({i_val},{new_j})\",\n",
    "                \"Tiempo de actividad (t_i)\": duracion,\n",
    "                \"Predecesor\": \"INICIO\",\n",
    "                \"Actividad\": actividad\n",
    "            })\n",
    "        else:\n",
    "            # Si hay uno o más predecesores,\n",
    "            # para cada uno se solicita: primero el nombre y luego la duración de la actividad de ese predecesor.\n",
    "            for i in range(num_predecesores):\n",
    "                pred = get_uppercase(f\"Ingrese el nombre del nodo predecesor {i+1}: \")\n",
    "                # Se pregunta la duración para el predecesor, pero este valor no se guarda en la columna \"Predecesor\"\n",
    "                get_float(f\"Ingrese la duración de la actividad (nodo) {pred}: \")\n",
    "                if pred in pred_mapping:\n",
    "                    i_val = pred_mapping[pred]\n",
    "                else:\n",
    "                    print(f\"Advertencia: Predecesor {pred} no encontrado. Se usará INICIO por defecto.\")\n",
    "                    i_val = pred_mapping[\"INICIO\"]\n",
    "                filas.append({\n",
    "                    \"Nodo\": nodo,\n",
    "                    \"Par ordenado (i,j)\": f\"({i_val},{new_j})\",\n",
    "                    \"Tiempo de actividad (t_i)\": duracion,\n",
    "                    \"Predecesor\": pred,\n",
    "                    \"Actividad\": actividad\n",
    "                })\n",
    "        \n",
    "        # Se actualiza el mapeo con el \"j\" asignado al nodo actual\n",
    "        pred_mapping[nodo] = new_j\n",
    "        current_j = new_j\n",
    "    \n",
    "    # Nodo FINAL: se asigna tomando el valor 'j' del nodo (actividad) predecesor (último ingresado)\n",
    "    print(\"\\n--- Nodo FINAL ---\")\n",
    "    final_actividad = get_string(\"Ingrese el nombre de la actividad para el nodo FINAL: \")\n",
    "    final_predecesor = nodo if num_nodos > 0 else \"INICIO\"\n",
    "    final_j = pred_mapping[final_predecesor]\n",
    "    filas.append({\n",
    "        \"Nodo\": \"FINAL\",\n",
    "        \"Par ordenado (i,j)\": f\"({final_j},{final_j})\",\n",
    "        \"Tiempo de actividad (t_i)\": 0,\n",
    "        \"Predecesor\": final_predecesor,\n",
    "        \"Actividad\": final_actividad\n",
    "    })\n",
    "    \n",
    "    # Se escribe la información en un archivo CSV\n",
    "    nombre_archivo = \"actividades.csv\"\n",
    "    with open(nombre_archivo, mode='w', newline='', encoding='utf-8') as archivo_csv:\n",
    "        campos = [\"Nodo\", \"Par ordenado (i,j)\", \"Tiempo de actividad (t_i)\", \"Predecesor\", \"Actividad\"]\n",
    "        escritor = csv.DictWriter(archivo_csv, fieldnames=campos)\n",
    "        escritor.writeheader()\n",
    "        for fila in filas:\n",
    "            escritor.writerow(fila)\n",
    "    \n",
    "    print(f\"\\nLa información se ha guardado correctamente en el archivo '{nombre_archivo}'.\")\n",
    "\n",
    "if __name__ == \"__main__\":\n",
    "    main()\n"
   ]
  },
  {
   "cell_type": "code",
   "execution_count": 10,
   "id": "5f38ab5b-203d-45c9-8e4e-c70615d8d424",
   "metadata": {},
   "outputs": [],
   "source": [
    "%matplotlib notebook\n",
    "%matplotlib widget\n"
   ]
  },
  {
   "cell_type": "code",
   "execution_count": 11,
   "id": "d3900772-dea8-496f-90fa-ca70b81ea8fb",
   "metadata": {},
   "outputs": [
    {
     "name": "stdout",
     "output_type": "stream",
     "text": [
      "Warning: When  cdn_resources is 'local' jupyter notebook has issues displaying graphics on chrome/safari. Use cdn_resources='in_line' or cdn_resources='remote' if you have issues viewing graphics in a notebook.\n",
      "actividades_graph.html\n"
     ]
    },
    {
     "data": {
      "text/html": [
       "\n",
       "        <iframe\n",
       "            width=\"100%\"\n",
       "            height=\"800px\"\n",
       "            src=\"actividades_graph.html\"\n",
       "            frameborder=\"0\"\n",
       "            allowfullscreen\n",
       "            \n",
       "        ></iframe>\n",
       "        "
      ],
      "text/plain": [
       "<IPython.lib.display.IFrame at 0x2451d0e51d0>"
      ]
     },
     "execution_count": 11,
     "metadata": {},
     "output_type": "execute_result"
    }
   ],
   "source": [
    "import pandas as pd\n",
    "import networkx as nx\n",
    "from pyvis.network import Network\n",
    "\n",
    "# Leer el archivo CSV con los datos de actividades\n",
    "df = pd.read_csv(\"actividades.csv\", encoding=\"utf-8\")\n",
    "\n",
    "# Crear un grafo dirigido usando NetworkX\n",
    "G = nx.DiGraph()\n",
    "\n",
    "# Recorrer cada fila del DataFrame y construir nodos y aristas\n",
    "for index, row in df.iterrows():\n",
    "    # Convertir a cadena y quitar espacios\n",
    "    nodo = str(row[\"Nodo\"]).strip()\n",
    "    \n",
    "    # Para la columna \"Predecesor\": si es nula se asigna cadena vacía\n",
    "    predecesor = \"\"\n",
    "    if not pd.isna(row[\"Predecesor\"]):\n",
    "        predecesor = str(row[\"Predecesor\"]).strip()\n",
    "    \n",
    "    # Agregar el nodo actual\n",
    "    if not G.has_node(nodo):\n",
    "        G.add_node(nodo)\n",
    "    \n",
    "    # Si se indicó un predecesor, agregar la arista (de predecesor hacia el nodo actual)\n",
    "    if predecesor != \"\":\n",
    "        if not G.has_node(predecesor):\n",
    "            G.add_node(predecesor)\n",
    "        G.add_edge(predecesor, nodo)\n",
    "\n",
    "# También aseguramos que todos los nodos aparezcan en el grafo\n",
    "for n in df[\"Nodo\"].dropna().unique():\n",
    "    n_str = str(n).strip()\n",
    "    if not G.has_node(n_str):\n",
    "        G.add_node(n_str)\n",
    "\n",
    "# Ahora creamos una visualización interactiva con PyVis\n",
    "\n",
    "# Se configura la ventana: altura, ancho, dirección y modo notebook para Jupyter\n",
    "net = Network(height=\"800px\", width=\"100%\", directed=True, notebook=True)\n",
    "\n",
    "# Se habilita el motor de física para que el grafo se distribuya de forma dinámica (barnes_hut)\n",
    "net.barnes_hut()\n",
    "\n",
    "# Convertir el grafo de NetworkX a PyVis\n",
    "net.from_nx(G)\n",
    "\n",
    "# Opciones de visualización (personalización de nodos, aristas y física)\n",
    "options = \"\"\"\n",
    "var options = {\n",
    "  \"nodes\": {\n",
    "    \"shape\": \"dot\",\n",
    "    \"size\": 15,\n",
    "    \"font\": {\n",
    "      \"size\": 16,\n",
    "      \"color\": \"black\"\n",
    "    }\n",
    "  },\n",
    "  \"edges\": {\n",
    "    \"arrows\": {\n",
    "      \"to\": {\n",
    "        \"enabled\": true,\n",
    "        \"scaleFactor\": 1.2\n",
    "      }\n",
    "    },\n",
    "    \"color\": {\n",
    "      \"inherit\": true\n",
    "    },\n",
    "    \"smooth\": {\n",
    "      \"enabled\": false\n",
    "    }\n",
    "  },\n",
    "  \"physics\": {\n",
    "    \"enabled\": true,\n",
    "    \"stabilization\": {\n",
    "      \"iterations\": 2500\n",
    "    }\n",
    "  }\n",
    "}\n",
    "\"\"\"\n",
    "net.set_options(options)\n",
    "\n",
    "# Generar y mostrar el grafo interactivo en Jupyter.\n",
    "# Esto creará un archivo HTML (actividades_graph.html) y lo abrirá en el navegador (o lo integrará en Jupyter Notebook)\n",
    "net.show(\"actividades_graph.html\")\n"
   ]
  },
  {
   "cell_type": "code",
   "execution_count": 12,
   "id": "e288d774-71d0-4cd0-90ea-f0ef713846fd",
   "metadata": {},
   "outputs": [
    {
     "name": "stdout",
     "output_type": "stream",
     "text": [
      "Tabla de Cálculos CPM:\n",
      "  Nodo Par ordenado (i,j)  Tiempo de actividad (t_i)   TIP   TTP           TIT           TTT  Holgura total  Holgura libre\n",
      "INICIO              (0,0)                       0.00  0.00  0.00 -3.552714e-15 -3.552714e-15  -3.552714e-15           0.00\n",
      "     A              (0,1)                       2.00  0.00  2.00 -3.552714e-15  2.000000e+00  -3.552714e-15           0.00\n",
      "     B              (1,2)                       3.17  2.00  5.17  2.000000e+00  5.170000e+00  -3.552714e-15           0.00\n",
      "     C              (2,3)                       3.00  5.17  8.17  5.170000e+00  8.170000e+00   0.000000e+00           0.00\n",
      "     D              (2,4)                       5.00  5.17 10.17  5.170000e+00  1.017000e+01  -3.552714e-15           0.00\n",
      "     D              (1,4)                       5.00  2.00  7.00  5.170000e+00  1.017000e+01   3.170000e+00           3.17\n",
      "     E              (4,5)                       2.00 10.17 12.17  1.017000e+01  1.217000e+01  -3.552714e-15           0.00\n",
      "     F              (5,6)                       1.17 12.17 13.34  1.217000e+01  1.334000e+01  -3.552714e-15           0.00\n",
      "     G              (6,7)                       2.00 13.34 15.34  1.334000e+01  1.534000e+01  -3.552714e-15           0.00\n",
      "     H              (6,8)                       2.00 13.34 15.34  1.334000e+01  1.534000e+01   0.000000e+00           0.00\n",
      "     I              (8,9)                       1.17 15.34 16.51  1.534000e+01  1.651000e+01   0.000000e+00           0.00\n",
      "     J             (7,10)                       3.00 15.34 18.34  1.534000e+01  1.834000e+01  -3.552714e-15           0.00\n",
      "     K             (7,11)                       2.00 15.34 17.34  1.634000e+01  1.834000e+01   1.000000e+00           0.00\n",
      "     L            (10,12)                       3.17 18.34 21.51  1.834000e+01  2.151000e+01   0.000000e+00           0.00\n",
      "     L            (11,12)                       3.17 17.34 20.51  1.834000e+01  2.151000e+01   1.000000e+00           1.00\n",
      "     M            (12,13)                       3.00 21.51 24.51  2.151000e+01  2.451000e+01   0.000000e+00           0.00\n",
      "     N            (13,14)                       2.00 24.51 26.51  2.451000e+01  2.651000e+01   0.000000e+00           0.00\n",
      "     O            (14,15)                       2.00 26.51 28.51  2.651000e+01  2.851000e+01   0.000000e+00           0.00\n",
      "     P            (15,16)                       2.00 28.51 30.51  2.851000e+01  3.051000e+01   0.000000e+00           0.00\n",
      "     Q            (16,17)                       2.00 30.51 32.51  3.051000e+01  3.251000e+01   0.000000e+00           0.00\n",
      "     R            (17,18)                       3.00 32.51 35.51  3.251000e+01  3.551000e+01   0.000000e+00           0.00\n",
      "     S            (18,19)                       1.17 35.51 36.68  3.551000e+01  3.668000e+01   0.000000e+00           0.00\n",
      "     T            (15,20)                       3.00 28.51 31.51  3.368000e+01  3.668000e+01   5.170000e+00           0.00\n",
      "     U            (19,21)                       2.00 36.68 38.68  3.668000e+01  3.868000e+01   0.000000e+00           0.00\n",
      "     U            (20,21)                       2.00 31.51 33.51  3.668000e+01  3.868000e+01   5.170000e+00           5.17\n",
      "     V            (21,22)                       2.00 38.68 40.68  3.868000e+01  4.068000e+01   0.000000e+00           0.00\n",
      "     W            (22,23)                       1.17 40.68 41.85  4.068000e+01  4.185000e+01   0.000000e+00           0.00\n",
      "     X            (23,24)                       1.17 41.85 43.02  4.185000e+01  4.302000e+01   0.000000e+00           0.00\n",
      "     Y            (24,25)                       1.00 43.02 44.02  4.302000e+01  4.402000e+01   0.000000e+00           0.00\n",
      " FINAL            (25,25)                       0.00 44.02 44.02  4.402000e+01  4.402000e+01   0.000000e+00           0.00\n"
     ]
    }
   ],
   "source": [
    "import pandas as pd\n",
    "import numpy as np\n",
    "\n",
    "def parse_par(par_str):\n",
    "    \"\"\"\n",
    "    Función para extraer los dos números enteros del par ordenado.\n",
    "    Se espera que par_str tenga el formato \"(i,j)\"\n",
    "    \"\"\"\n",
    "    par_str = par_str.strip()\n",
    "    if par_str.startswith(\"(\") and par_str.endswith(\")\"):\n",
    "        par_str = par_str[1:-1]\n",
    "    i_str, j_str = par_str.split(\",\")\n",
    "    return int(i_str), int(j_str)\n",
    "\n",
    "def main():\n",
    "    # --- 1. Leer el archivo CSV con los datos ingresados ---\n",
    "    df = pd.read_csv(\"actividades.csv\", encoding=\"utf-8\")\n",
    "    \n",
    "    # --- 2. Construir la lista de arcos (actividades) y extraer el conjunto de eventos ---\n",
    "    arcs = []   # Cada arco es un diccionario con: Nodo, Actividad, t_i, i, j, Predecesor\n",
    "    events = set()\n",
    "    \n",
    "    for idx, row in df.iterrows():\n",
    "        # Se extrae el par ordenado (i,j)\n",
    "        i_event, j_event = parse_par(row[\"Par ordenado (i,j)\"])\n",
    "        # Se asegura que t_i sea de tipo float\n",
    "        t_i = float(row[\"Tiempo de actividad (t_i)\"])\n",
    "        arc = {\n",
    "            \"Nodo\": row[\"Nodo\"],\n",
    "            \"Actividad\": row[\"Actividad\"],\n",
    "            \"t_i\": t_i,\n",
    "            \"i\": i_event,\n",
    "            \"j\": j_event,\n",
    "            \"Predecesor\": row[\"Predecesor\"]\n",
    "        }\n",
    "        arcs.append(arc)\n",
    "        events.add(i_event)\n",
    "        events.add(j_event)\n",
    "    \n",
    "    events = sorted(list(events))\n",
    "    \n",
    "    # --- 3. Forward Pass: Cálculo de ES (tiempo más temprano) para cada evento ---\n",
    "    # Se asume que el evento 0 (INICIO) tiene ES=0.\n",
    "    ES = {e: 0 for e in events}\n",
    "    for e in events:\n",
    "        for arc in [a for a in arcs if a[\"i\"] == e]:\n",
    "            candidate = ES[e] + arc[\"t_i\"]\n",
    "            if candidate > ES[arc[\"j\"]]:\n",
    "                ES[arc[\"j\"]] = candidate\n",
    "    \n",
    "    # --- 4. Backward Pass: Cálculo de LF (tiempo más tardío) para cada evento ---\n",
    "    LF = {e: np.inf for e in events}\n",
    "    final_event = max(events)  # Se asume que el evento final es el mayor número asignado.\n",
    "    LF[final_event] = ES[final_event]\n",
    "    for e in sorted(events, reverse=True):\n",
    "        for arc in [a for a in arcs if a[\"j\"] == e]:\n",
    "            candidate = LF[e] - arc[\"t_i\"]\n",
    "            if candidate < LF[arc[\"i\"]]:\n",
    "                LF[arc[\"i\"]] = candidate\n",
    "    for e in events:\n",
    "        if LF[e] == np.inf:\n",
    "            LF[e] = ES[e]\n",
    "    \n",
    "    # --- 5. Cálculo para cada actividad (arco) ---\n",
    "    # Se calculan:\n",
    "    # TIP = ES(i)\n",
    "    # TTP = TIP + t_i\n",
    "    # TTT = LF(j)\n",
    "    # TIT = TTT - t_i\n",
    "    # Holgura total = TTT - TTP\n",
    "    # Holgura libre = ES(j) - TTP (si el evento j tiene sucesores; de lo contrario se usa la holgura total)\n",
    "    results = []\n",
    "    for arc in arcs:\n",
    "        tip = ES[arc[\"i\"]]\n",
    "        ttp = tip + arc[\"t_i\"]\n",
    "        ttt = LF[arc[\"j\"]]\n",
    "        tit = ttt - arc[\"t_i\"]\n",
    "        holgura_total = ttt - ttp  # equivalencia: tit - tip\n",
    "        # Verificar si el evento j tiene arcos salientes (sucesores)\n",
    "        successors = [a for a in arcs if a[\"i\"] == arc[\"j\"]]\n",
    "        if successors:\n",
    "            holgura_libre = ES[arc[\"j\"]] - ttp\n",
    "        else:\n",
    "            holgura_libre = holgura_total\n",
    "        \n",
    "        results.append({\n",
    "            \"Nodo\": arc[\"Nodo\"],\n",
    "            \"Par ordenado (i,j)\": f\"({arc['i']},{arc['j']})\",\n",
    "            \"Tiempo de actividad (t_i)\": arc[\"t_i\"],\n",
    "            \"TIP\": tip,\n",
    "            \"TTP\": ttp,\n",
    "            \"TIT\": tit,\n",
    "            \"TTT\": ttt,\n",
    "            \"Holgura total\": holgura_total,\n",
    "            \"Holgura libre\": holgura_libre\n",
    "        })\n",
    "    \n",
    "    # --- 6. Mostrar la tabla resultante ---\n",
    "    df_results = pd.DataFrame(results)\n",
    "    print(\"Tabla de Cálculos CPM:\")\n",
    "    print(df_results.to_string(index=False))\n",
    "    \n",
    "if __name__ == \"__main__\":\n",
    "    main()\n"
   ]
  },
  {
   "cell_type": "code",
   "execution_count": 13,
   "id": "b5714e6a-b535-4718-972f-e057251d4e89",
   "metadata": {},
   "outputs": [
    {
     "name": "stdout",
     "output_type": "stream",
     "text": [
      "Tabla de Cálculos CPM:\n",
      "  Nodo                                                 Actividad  t_i  i  j Predecesor   TIP   TTP           TTT           TIT  Holgura total  Holgura libre  critical\n",
      "INICIO                                                    INICIO 0.00  0  0             0.00  0.00 -3.552714e-15 -3.552714e-15  -3.552714e-15           0.00      True\n",
      "     A          Reunión con el cliente para entender el problema 2.00  0  1     INICIO  0.00  2.00  2.000000e+00 -3.552714e-15  -3.552714e-15           0.00      True\n",
      "     B      Redacción de requisitos funcionales y no funcionales 3.17  1  2          A  2.00  5.17  5.170000e+00  2.000000e+00  -3.552714e-15           0.00      True\n",
      "     C Estudio de factibilidad técnica y elección de tecnologías 3.00  2  3          B  5.17  8.17  8.170000e+00  5.170000e+00   0.000000e+00           0.00      True\n",
      "     D    Diseño del sistema (arquitectura general, componentes) 5.00  2  4          B  5.17 10.17  1.017000e+01  5.170000e+00  -3.552714e-15           0.00      True\n",
      "     D    Diseño del sistema (arquitectura general, componentes) 5.00  1  4          A  2.00  7.00  1.017000e+01  5.170000e+00   3.170000e+00           3.17     False\n",
      "     E        Aprobación del cliente sobre el plan de desarrollo 2.00  4  5          D 10.17 12.17  1.217000e+01  1.017000e+01  -3.552714e-15           0.00      True\n",
      "     F           Creación de estructura de carpetas del proyecto 1.17  5  6          E 12.17 13.34  1.334000e+01  1.217000e+01  -3.552714e-15           0.00      True\n",
      "     G               Configuración de herramientas de desarrollo 2.00  6  7          F 13.34 15.34  1.534000e+01  1.334000e+01  -3.552714e-15           0.00      True\n",
      "     H                             Generación de datos de prueba 2.00  6  8          F 13.34 15.34  1.534000e+01  1.334000e+01   0.000000e+00           0.00      True\n",
      "     I               Diseño de conjunto mínimo variable de datos 1.17  8  9          H 15.34 16.51  1.651000e+01  1.534000e+01   0.000000e+00           0.00      True\n",
      "     J                 Desarrollo del módulo de lectura de datos 3.00  7 10          G 15.34 18.34  1.834000e+01  1.534000e+01  -3.552714e-15           0.00      True\n",
      "     K                        Desarrollo de estructuras de datos 2.00  7 11          G 15.34 17.34  1.834000e+01  1.634000e+01   1.000000e+00           0.00     False\n",
      "     L           Desarrollo del módulo de detección de anomalias 3.17 10 12          J 18.34 21.51  2.151000e+01  1.834000e+01   0.000000e+00           0.00      True\n",
      "     L           Desarrollo del módulo de detección de anomalias 3.17 11 12          K 17.34 20.51  2.151000e+01  1.834000e+01   1.000000e+00           1.00     False\n",
      "     M                      Implementación de lógica estadística 3.00 12 13          L 21.51 24.51  2.451000e+01  2.151000e+01   0.000000e+00           0.00      True\n",
      "     N          Desarrollo del módulo de escritura de resultados 2.00 13 14          M 24.51 26.51  2.651000e+01  2.451000e+01   0.000000e+00           0.00      True\n",
      "     O                        Integración del sistema en maincpp 2.00 14 15          N 26.51 28.51  2.851000e+01  2.651000e+01   0.000000e+00           0.00      True\n",
      "     P                          Pruebas unitarias de cada módulo 2.00 15 16          O 28.51 30.51  3.051000e+01  2.851000e+01   0.000000e+00           0.00      True\n",
      "     Q                  Pruebas funcionales de extremo a extremo 2.00 16 17          P 30.51 32.51  3.251000e+01  3.051000e+01   0.000000e+00           0.00      True\n",
      "     R          Pruebas de estrés con grandes volúmenes de datos 3.00 17 18          Q 32.51 35.51  3.551000e+01  3.251000e+01   0.000000e+00           0.00      True\n",
      "     S                               Optimización de rendimiento 1.17 18 19          R 35.51 36.68  3.668000e+01  3.551000e+01   0.000000e+00           0.00      True\n",
      "     T                        Redacción de documentación técnica 3.00 15 20          O 28.51 31.51  3.668000e+01  3.368000e+01   5.170000e+00           0.00     False\n",
      "     U               Creación del ejecutable final y empaquetado 2.00 19 21          S 36.68 38.68  3.868000e+01  3.668000e+01   0.000000e+00           0.00      True\n",
      "     U               Creación del ejecutable final y empaquetado 2.00 20 21          T 31.51 33.51  3.868000e+01  3.668000e+01   5.170000e+00           5.17     False\n",
      "     V                Generación de presentación para el cliente 2.00 21 22          U 38.68 40.68  4.068000e+01  3.868000e+01   0.000000e+00           0.00      True\n",
      "     W                           Entrega del software al cliente 1.17 22 23          V 40.68 41.85  4.185000e+01  4.068000e+01   0.000000e+00           0.00      True\n",
      "     X               Reunión de demostración y retroalimentación 1.17 23 24          W 41.85 43.02  4.302000e+01  4.185000e+01   0.000000e+00           0.00      True\n",
      "     Y                          Registro de lecciones aprendidas 1.00 24 25          X 43.02 44.02  4.402000e+01  4.302000e+01   0.000000e+00           0.00      True\n",
      " FINAL                                                     FINAL 0.00 25 25          Y 44.02 44.02  4.402000e+01  4.402000e+01   0.000000e+00           0.00      True\n",
      "Warning: When  cdn_resources is 'local' jupyter notebook has issues displaying graphics on chrome/safari. Use cdn_resources='in_line' or cdn_resources='remote' if you have issues viewing graphics in a notebook.\n",
      "ruta_critica_graph.html\n"
     ]
    }
   ],
   "source": [
    "import pandas as pd\n",
    "import numpy as np\n",
    "import networkx as nx\n",
    "from pyvis.network import Network\n",
    "\n",
    "def parse_par(par_str):\n",
    "    \"\"\"\n",
    "    Extrae los dos números enteros del par ordenado en formato \"(i,j)\".\n",
    "    \"\"\"\n",
    "    par_str = par_str.strip()\n",
    "    if par_str.startswith(\"(\") and par_str.endswith(\")\"):\n",
    "        par_str = par_str[1:-1]\n",
    "    i_str, j_str = par_str.split(\",\")\n",
    "    return int(i_str), int(j_str)\n",
    "\n",
    "def main():\n",
    "    # --- 1. Lectura del CSV ---\n",
    "    df = pd.read_csv(\"actividades.csv\", encoding=\"utf-8\")\n",
    "    \n",
    "    # --- 2. Construir la lista de actividades (arcos) y obtener el conjunto de eventos ---\n",
    "    # Cada fila del CSV se interpreta como un arco con:\n",
    "    # Nodo, Actividad, t_i, (i,j) y Predecesor.\n",
    "    arcs = []\n",
    "    events = set()\n",
    "    for idx, row in df.iterrows():\n",
    "        i_event, j_event = parse_par(row[\"Par ordenado (i,j)\"])\n",
    "        t_i = float(row[\"Tiempo de actividad (t_i)\"])\n",
    "        arc = {\n",
    "            \"Nodo\": str(row[\"Nodo\"]).strip(),\n",
    "            \"Actividad\": str(row[\"Actividad\"]).strip(),\n",
    "            \"t_i\": t_i,\n",
    "            \"i\": i_event,\n",
    "            \"j\": j_event,\n",
    "            \"Predecesor\": \"\" if pd.isna(row[\"Predecesor\"]) else str(row[\"Predecesor\"]).strip()\n",
    "        }\n",
    "        arcs.append(arc)\n",
    "        events.add(i_event)\n",
    "        events.add(j_event)\n",
    "    events = sorted(list(events))\n",
    "    \n",
    "    # --- 3. Forward Pass: cálculo del tiempo más temprano (ES) para cada evento ---\n",
    "    # Se asume que el evento 0 (INICIO) tiene ES = 0.\n",
    "    ES = {e: 0 for e in events}\n",
    "    for e in events:\n",
    "        for arc in [a for a in arcs if a[\"i\"] == e]:\n",
    "            candidate = ES[e] + arc[\"t_i\"]\n",
    "            if candidate > ES[arc[\"j\"]]:\n",
    "                ES[arc[\"j\"]] = candidate\n",
    "                \n",
    "    # --- 4. Backward Pass: cálculo del tiempo más tardío (LF) para cada evento ---\n",
    "    LF = {e: np.inf for e in events}\n",
    "    final_event = max(events)\n",
    "    LF[final_event] = ES[final_event]\n",
    "    for e in sorted(events, reverse=True):\n",
    "        for arc in [a for a in arcs if a[\"j\"] == e]:\n",
    "            candidate = LF[e] - arc[\"t_i\"]\n",
    "            if candidate < LF[arc[\"i\"]]:\n",
    "                LF[arc[\"i\"]] = candidate\n",
    "    for e in events:\n",
    "        if LF[e] == np.inf:\n",
    "            LF[e] = ES[e]\n",
    "    \n",
    "    # --- 5. Cálculo de parámetros CPM para cada actividad ---\n",
    "    # Para cada arco se calcula:\n",
    "    # TIP = ES(i)\n",
    "    # TTP = TIP + t_i\n",
    "    # TTT = LF(j)\n",
    "    # TIT = TTT - t_i\n",
    "    # Holgura total = TTT - TTP   (igual a TIT - TIP)\n",
    "    # Holgura libre = ES(j) - TTP  (si hay sucesores; de lo contrario se iguala a holgura total)\n",
    "    # Se marca el arco como \"critical\" si Holgura total es 0 (dentro de tolerancia).\n",
    "    for arc in arcs:\n",
    "        tip = ES[arc[\"i\"]]\n",
    "        ttp = tip + arc[\"t_i\"]\n",
    "        ttt = LF[arc[\"j\"]]\n",
    "        tit = ttt - arc[\"t_i\"]\n",
    "        holgura_total = ttt - ttp\n",
    "        # Verificar si el evento j tiene sucesores:\n",
    "        successors = [a for a in arcs if a[\"i\"] == arc[\"j\"]]\n",
    "        if successors:\n",
    "            holgura_libre = ES[arc[\"j\"]] - ttp\n",
    "        else:\n",
    "            holgura_libre = holgura_total\n",
    "        \n",
    "        arc[\"TIP\"] = tip\n",
    "        arc[\"TTP\"] = ttp\n",
    "        arc[\"TTT\"] = ttt\n",
    "        arc[\"TIT\"] = tit\n",
    "        arc[\"Holgura total\"] = holgura_total\n",
    "        arc[\"Holgura libre\"] = holgura_libre\n",
    "        arc[\"critical\"] = (abs(holgura_total) < 1e-6)\n",
    "    \n",
    "    # Mostrar la tabla con los cálculos (se puede mejorar la presentación con pandas)\n",
    "    df_results = pd.DataFrame(arcs)\n",
    "    print(\"Tabla de Cálculos CPM:\")\n",
    "    print(df_results.to_string(index=False))\n",
    "    \n",
    "    # --- 6. Construcción del grafo con NetworkX ---\n",
    "    # Se crean aristas: de Predecesor -> Nodo. Si \"Predecesor\" es vacío, se asume \"INICIO\".\n",
    "    G = nx.DiGraph()\n",
    "    for arc in arcs:\n",
    "        source = arc[\"Predecesor\"] if arc[\"Predecesor\"] != \"\" else \"INICIO\"\n",
    "        target = arc[\"Nodo\"]\n",
    "        label = f\"{arc['Actividad']} (t={arc['t_i']})\"\n",
    "        # Si la arista ya existe, se actualiza el atributo 'critical'\n",
    "        if G.has_edge(source, target):\n",
    "            if arc[\"critical\"]:\n",
    "                G[source][target][\"critical\"] = True\n",
    "        else:\n",
    "            G.add_edge(source, target, label=label, critical=arc[\"critical\"])\n",
    "    \n",
    "    # Aseguramos que nodos especiales estén presentes en el grafo\n",
    "    for special in [\"INICIO\", \"FINAL\"]:\n",
    "        if not G.has_node(special):\n",
    "            G.add_node(special)\n",
    "    \n",
    "    # --- 7. Visualización interactiva y dinámica con PyVis ---\n",
    "    # Se crea un objeto Network de PyVis para una visualización interactiva\n",
    "    net = Network(height=\"800px\", width=\"100%\", directed=True, notebook=True)\n",
    "    net.from_nx(G)\n",
    "    \n",
    "    # Configurar opciones interactivas y de presentación (se definen nodos, aristas, física, etc.)\n",
    "    options = \"\"\"\n",
    "    var options = {\n",
    "      \"nodes\": {\n",
    "        \"shape\": \"dot\",\n",
    "        \"size\": 20,\n",
    "        \"font\": {\n",
    "          \"size\": 16,\n",
    "          \"color\": \"black\"\n",
    "        },\n",
    "        \"borderWidth\": 2,\n",
    "        \"shadow\": {\n",
    "            \"enabled\": true\n",
    "        }\n",
    "      },\n",
    "      \"edges\": {\n",
    "        \"arrows\": {\n",
    "          \"to\": {\n",
    "            \"enabled\": true,\n",
    "            \"scaleFactor\": 1.5\n",
    "          }\n",
    "        },\n",
    "        \"color\": {\n",
    "          \"inherit\": false\n",
    "        },\n",
    "        \"smooth\": {\n",
    "          \"enabled\": true,\n",
    "          \"type\": \"dynamic\"\n",
    "        },\n",
    "        \"shadow\": {\n",
    "            \"enabled\": true\n",
    "        }\n",
    "      },\n",
    "      \"physics\": {\n",
    "        \"enabled\": true,\n",
    "        \"barnesHut\": {\n",
    "          \"gravitationalConstant\": -8000,\n",
    "          \"centralGravity\": 0.3,\n",
    "          \"springLength\": 95,\n",
    "          \"springConstant\": 0.04,\n",
    "          \"damping\": 0.09,\n",
    "          \"avoidOverlap\": 0.1\n",
    "        },\n",
    "        \"minVelocity\": 0.75\n",
    "      }\n",
    "    }\n",
    "    \"\"\"\n",
    "    net.set_options(options)\n",
    "    \n",
    "    # Personalizar las aristas de acuerdo a la criticidad: rojas para críticas, grises para el resto.\n",
    "    for edge in net.edges:\n",
    "        if edge.get(\"critical\", False):\n",
    "            edge[\"color\"] = \"red\"\n",
    "        else:\n",
    "            edge[\"color\"] = \"gray\"\n",
    "    \n",
    "    # Mostrar el grafo interactivo. Se genera un archivo HTML y se visualiza en el navegador o en el notebook.\n",
    "    net.show(\"ruta_critica_graph.html\")\n",
    "\n",
    "if __name__ == \"__main__\":\n",
    "    main()\n"
   ]
  },
  {
   "cell_type": "code",
   "execution_count": null,
   "id": "e5ce2c13-02f7-46d0-b843-64abbc3c9c7e",
   "metadata": {},
   "outputs": [],
   "source": []
  }
 ],
 "metadata": {
  "kernelspec": {
   "display_name": "Python 3 (ipykernel)",
   "language": "python",
   "name": "python3"
  },
  "language_info": {
   "codemirror_mode": {
    "name": "ipython",
    "version": 3
   },
   "file_extension": ".py",
   "mimetype": "text/x-python",
   "name": "python",
   "nbconvert_exporter": "python",
   "pygments_lexer": "ipython3",
   "version": "3.13.2"
  }
 },
 "nbformat": 4,
 "nbformat_minor": 5
}
