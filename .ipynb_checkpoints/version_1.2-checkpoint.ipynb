{
 "cells": [
  {
   "cell_type": "code",
   "execution_count": 1,
   "id": "b5ece326-4b5f-4a94-9709-bf99e81bfc18",
   "metadata": {},
   "outputs": [
    {
     "name": "stdin",
     "output_type": "stream",
     "text": [
      "Ingrese el número de nodos (actividades):  5\n"
     ]
    },
    {
     "name": "stdout",
     "output_type": "stream",
     "text": [
      "\n",
      "--- Ingresando datos para la actividad 1 ---\n"
     ]
    },
    {
     "name": "stdin",
     "output_type": "stream",
     "text": [
      "Ingrese el nombre del nodo (solo letras mayúsculas):  A\n",
      "Ingrese el nombre de la actividad:  Primera\n",
      "Ingrese el número de actividades (nodo) predecesoras:  0\n"
     ]
    },
    {
     "name": "stdout",
     "output_type": "stream",
     "text": [
      "\n",
      "--- Ingresando datos para la actividad 2 ---\n"
     ]
    },
    {
     "name": "stdin",
     "output_type": "stream",
     "text": [
      "Ingrese el nombre del nodo (solo letras mayúsculas):  B\n",
      "Ingrese el nombre de la actividad:  B\n",
      "Ingrese el número de actividades (nodo) predecesoras:  1\n",
      "Ingrese el nombre del nodo predecesor 1:  A\n",
      "Ingrese la duración de la actividad (nodo) A:  1\n"
     ]
    },
    {
     "name": "stdout",
     "output_type": "stream",
     "text": [
      "\n",
      "--- Ingresando datos para la actividad 3 ---\n"
     ]
    },
    {
     "name": "stdin",
     "output_type": "stream",
     "text": [
      "Ingrese el nombre del nodo (solo letras mayúsculas):  C\n",
      "Ingrese el nombre de la actividad:  Tercera\n",
      "Ingrese el número de actividades (nodo) predecesoras:  1\n",
      "Ingrese el nombre del nodo predecesor 1:  B\n",
      "Ingrese la duración de la actividad (nodo) B:  2\n"
     ]
    },
    {
     "name": "stdout",
     "output_type": "stream",
     "text": [
      "\n",
      "--- Ingresando datos para la actividad 4 ---\n"
     ]
    },
    {
     "name": "stdin",
     "output_type": "stream",
     "text": [
      "Ingrese el nombre del nodo (solo letras mayúsculas):  D\n",
      "Ingrese el nombre de la actividad:  Cuarta\n",
      "Ingrese el número de actividades (nodo) predecesoras:  1\n",
      "Ingrese el nombre del nodo predecesor 1:  B\n",
      "Ingrese la duración de la actividad (nodo) B:  3\n"
     ]
    },
    {
     "name": "stdout",
     "output_type": "stream",
     "text": [
      "\n",
      "--- Ingresando datos para la actividad 5 ---\n"
     ]
    },
    {
     "name": "stdin",
     "output_type": "stream",
     "text": [
      "Ingrese el nombre del nodo (solo letras mayúsculas):  E\n",
      "Ingrese el nombre de la actividad:  Quinta\n",
      "Ingrese el número de actividades (nodo) predecesoras:  2\n",
      "Ingrese el nombre del nodo predecesor 1:  C\n",
      "Ingrese la duración de la actividad (nodo) C:  3\n",
      "Ingrese el nombre del nodo predecesor 2:  D\n",
      "Ingrese la duración de la actividad (nodo) D:  3\n"
     ]
    },
    {
     "name": "stdout",
     "output_type": "stream",
     "text": [
      "\n",
      "La información se ha guardado correctamente en el archivo 'actividades.csv'.\n"
     ]
    }
   ],
   "source": [
    "import csv\n",
    "\n",
    "def get_int(prompt):\n",
    "    while True:\n",
    "        try:\n",
    "            value = int(input(prompt))\n",
    "            return value\n",
    "        except ValueError:\n",
    "            print(\"Error: Por favor ingrese un valor entero.\")\n",
    "\n",
    "def get_float(prompt):\n",
    "    while True:\n",
    "        try:\n",
    "            value = float(input(prompt))\n",
    "            return value\n",
    "        except ValueError:\n",
    "            print(\"Error: Por favor ingrese un número (Integer o Float).\")\n",
    "\n",
    "def get_uppercase(prompt):\n",
    "    while True:\n",
    "        value = input(prompt).strip()\n",
    "        if value.isalpha() and value.upper() == value:\n",
    "            return value\n",
    "        else:\n",
    "            print(\"Error: Debe ingresar solo letras mayúsculas.\")\n",
    "\n",
    "def main():\n",
    "    # Lista para guardar la información de cada nodo (actividad)\n",
    "    nodos = []\n",
    "    \n",
    "    # Se define el nodo INICIO con par ordenado (0,0)\n",
    "    inicio = {\n",
    "        \"Nodo\": \"INICIO\",\n",
    "        \"Actividad\": \"INICIO\",\n",
    "        \"Predecesores\": \"\",\n",
    "        \"Par Ordenado\": \"(0,0)\"\n",
    "    }\n",
    "    nodos.append(inicio)\n",
    "    \n",
    "    # Se pide el número de actividades (nodos)\n",
    "    num_nodos = get_int(\"Ingrese el número de nodos (actividades): \")\n",
    "    \n",
    "    # Contador para asignar pares ordenados únicos\n",
    "    # Se inicia en 1 para que el primer nodo (después de INICIO) reciba (1,2)\n",
    "    contador = 1\n",
    "    \n",
    "    for i in range(num_nodos):\n",
    "        print(f\"\\n--- Ingresando datos para la actividad {i+1} ---\")\n",
    "        \n",
    "        # Se solicita el nombre del nodo y se valida\n",
    "        nombre_nodo = get_uppercase(\"Ingrese el nombre del nodo (solo letras mayúsculas): \")\n",
    "        \n",
    "        # Se solicita el nombre de la actividad\n",
    "        nombre_actividad = input(\"Ingrese el nombre de la actividad: \").strip()\n",
    "        \n",
    "        # Se solicita el número de predecesores\n",
    "        num_predecesores = get_int(\"Ingrese el número de actividades (nodo) predecesoras: \")\n",
    "        \n",
    "        # Si no hay predecesores, se asigna \"INICIO\"\n",
    "        if num_predecesores == 0:\n",
    "            info_predecesores = \"INICIO\"\n",
    "        else:\n",
    "            # Se recoge la información de cada predecesor\n",
    "            lista_predecesores = []\n",
    "            # Según las especificaciones, si hay predecesores (sin importar si es 1 o >=2) se piden los datos\n",
    "            for j in range(num_predecesores):\n",
    "                predecesor = get_uppercase(f\"Ingrese el nombre del nodo predecesor {j+1}: \")\n",
    "                duracion = get_float(f\"Ingrese la duración de la actividad (nodo) {predecesor}: \")\n",
    "                lista_predecesores.append(f\"{predecesor} (Duración: {duracion})\")\n",
    "            info_predecesores = \"; \".join(lista_predecesores)\n",
    "        \n",
    "        # Se asigna el par ordenado único para la actividad actual\n",
    "        par_ordenado = f\"({contador},{contador+1})\"\n",
    "        contador += 1  # Actualizamos para el siguiente nodo\n",
    "        \n",
    "        # Se guarda la información en un diccionario\n",
    "        nodo_info = {\n",
    "            \"Nodo\": nombre_nodo,\n",
    "            \"Actividad\": nombre_actividad,\n",
    "            \"Predecesores\": info_predecesores,\n",
    "            \"Par Ordenado\": par_ordenado\n",
    "        }\n",
    "        nodos.append(nodo_info)\n",
    "    \n",
    "    # Se guarda toda la información en un archivo CSV\n",
    "    nombre_archivo = \"actividades.csv\"\n",
    "    with open(nombre_archivo, mode='w', newline='', encoding='utf-8') as archivo_csv:\n",
    "        campos = [\"Nodo\", \"Actividad\", \"Predecesores\", \"Par Ordenado\"]\n",
    "        escritor = csv.DictWriter(archivo_csv, fieldnames=campos)\n",
    "        escritor.writeheader()\n",
    "        for nodo in nodos:\n",
    "            escritor.writerow(nodo)\n",
    "    \n",
    "    print(f\"\\nLa información se ha guardado correctamente en el archivo '{nombre_archivo}'.\")\n",
    "\n",
    "if __name__ == \"__main__\":\n",
    "    main()\n"
   ]
  },
  {
   "cell_type": "code",
   "execution_count": null,
   "id": "fccbe85d-2f97-4317-bc1b-2354d45c6f4f",
   "metadata": {},
   "outputs": [],
   "source": []
  }
 ],
 "metadata": {
  "kernelspec": {
   "display_name": "Python 3 (ipykernel)",
   "language": "python",
   "name": "python3"
  },
  "language_info": {
   "codemirror_mode": {
    "name": "ipython",
    "version": 3
   },
   "file_extension": ".py",
   "mimetype": "text/x-python",
   "name": "python",
   "nbconvert_exporter": "python",
   "pygments_lexer": "ipython3",
   "version": "3.13.2"
  }
 },
 "nbformat": 4,
 "nbformat_minor": 5
}
