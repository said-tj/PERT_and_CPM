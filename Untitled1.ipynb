{
 "cells": [
  {
   "cell_type": "code",
   "execution_count": 1,
   "id": "8347490f-3787-4938-bc7e-0c5faab25115",
   "metadata": {},
   "outputs": [
    {
     "name": "stdin",
     "output_type": "stream",
     "text": [
      "Ingrese el número de nodos (actividades):  3\n"
     ]
    },
    {
     "name": "stdout",
     "output_type": "stream",
     "text": [
      "\n",
      "--- Ingreso de datos para la actividad 1 ---\n"
     ]
    },
    {
     "name": "stdin",
     "output_type": "stream",
     "text": [
      "Ingrese el nombre del nodo (solo letras mayúsculas):  A\n",
      "Ingrese el nombre de la actividad:  PRIMERA\n",
      "Ingrese el número de actividades (nodos) predecesoras (0 si depende de INICIO):  0\n",
      "Ingrese la duración de la actividad:  6\n"
     ]
    },
    {
     "name": "stdout",
     "output_type": "stream",
     "text": [
      "\n",
      "--- Ingreso de datos para la actividad 2 ---\n"
     ]
    },
    {
     "name": "stdin",
     "output_type": "stream",
     "text": [
      "Ingrese el nombre del nodo (solo letras mayúsculas):  B\n",
      "Ingrese el nombre de la actividad:  SEGUNDA\n",
      "Ingrese el número de actividades (nodos) predecesoras (0 si depende de INICIO):  0\n",
      "Ingrese la duración de la actividad:  1.6\n"
     ]
    },
    {
     "name": "stdout",
     "output_type": "stream",
     "text": [
      "\n",
      "--- Ingreso de datos para la actividad 3 ---\n"
     ]
    },
    {
     "name": "stdin",
     "output_type": "stream",
     "text": [
      "Ingrese el nombre del nodo (solo letras mayúsculas):  C\n",
      "Ingrese el nombre de la actividad:  TERCERA\n",
      "Ingrese el número de actividades (nodos) predecesoras (0 si depende de INICIO):  1\n",
      "Ingrese la duración de la actividad:  3\n",
      "Ingrese el nombre del nodo predecesor:  A\n",
      "Ingrese la duración de la actividad (nodo) A:  3\n"
     ]
    },
    {
     "name": "stdout",
     "output_type": "stream",
     "text": [
      "\n",
      "--- Nodo FINAL ---\n"
     ]
    },
    {
     "name": "stdin",
     "output_type": "stream",
     "text": [
      "Ingrese el nombre de la actividad para el nodo FINAL:  FINAL\n"
     ]
    },
    {
     "name": "stdout",
     "output_type": "stream",
     "text": [
      "\n",
      "La información se ha guardado correctamente en el archivo 'actividades.csv'.\n"
     ]
    }
   ],
   "source": [
    "import csv\n",
    "\n",
    "def get_int(prompt):\n",
    "    while True:\n",
    "        try:\n",
    "            return int(input(prompt))\n",
    "        except ValueError:\n",
    "            print(\"Error: Ingresa un número entero.\")\n",
    "\n",
    "def get_float(prompt):\n",
    "    while True:\n",
    "        try:\n",
    "            return float(input(prompt))\n",
    "        except ValueError:\n",
    "            print(\"Error: Ingresa un número (entero o decimal).\")\n",
    "\n",
    "def get_uppercase(prompt):\n",
    "    while True:\n",
    "        s = input(prompt).strip()\n",
    "        if s.isalpha() and s == s.upper():\n",
    "            return s\n",
    "        else:\n",
    "            print(\"Error: Ingresa solo letras mayúsculas.\")\n",
    "\n",
    "def get_string(prompt):\n",
    "    return input(prompt).strip()\n",
    "\n",
    "def main():\n",
    "    filas = []\n",
    "    \n",
    "    # Nodo INICIO\n",
    "    inicio_j = 0\n",
    "    filas.append({\n",
    "        \"Nodo\": \"INICIO\",\n",
    "        \"Par ordenado (i,j)\": f\"({inicio_j},{inicio_j})\",\n",
    "        \"Tiempo de actividad (t_i)\": 0,\n",
    "        \"Predecesor\": \"\",\n",
    "        \"Actividad\": \"INICIO\"\n",
    "    })\n",
    "    \n",
    "    # Variable global para asignar el nuevo \"j\" y diccionario para obtener la coordenada final de un nodo predecesor\n",
    "    current_j = inicio_j\n",
    "    pred_mapping = {\"INICIO\": inicio_j}\n",
    "    \n",
    "    # Se pide el número de nodos (actividades) intermedias (sin contar INICIO y FINAL)\n",
    "    num_nodos = get_int(\"Ingrese el número de nodos (actividades): \")\n",
    "    \n",
    "    # Se recorre cada nodo a ingresar\n",
    "    for idx in range(num_nodos):\n",
    "        print(f\"\\n--- Ingreso de datos para la actividad {idx+1} ---\")\n",
    "        # Ingrese el nombre del nodo actual (por ejemplo: A, B, C, ... o J)\n",
    "        nodo = get_uppercase(\"Ingrese el nombre del nodo (solo letras mayúsculas): \")\n",
    "        actividad = get_string(\"Ingrese el nombre de la actividad: \")\n",
    "        num_predecesores = get_int(\"Ingrese el número de actividades (nodos) predecesoras (0 si depende de INICIO): \")\n",
    "        # Se solicita la duración de la actividad actual (t_i)\n",
    "        duracion = get_float(\"Ingrese la duración de la actividad: \")\n",
    "        \n",
    "        # Se asigna un nuevo valor de \"j\" para este nodo (único para la actividad)\n",
    "        new_j = current_j + 1\n",
    "        \n",
    "        if num_predecesores == 0:\n",
    "            # Si no hay predecesores, la actividad depende de INICIO\n",
    "            i_val = pred_mapping[\"INICIO\"]\n",
    "            filas.append({\n",
    "                \"Nodo\": nodo,\n",
    "                \"Par ordenado (i,j)\": f\"({i_val},{new_j})\",\n",
    "                \"Tiempo de actividad (t_i)\": duracion,\n",
    "                \"Predecesor\": \"INICIO\",\n",
    "                \"Actividad\": actividad\n",
    "            })\n",
    "        elif num_predecesores == 1:\n",
    "            # Si hay 1 predecesor, se pide su nombre y, a continuación, la duración de la actividad de dicho predecesor.\n",
    "            pred = get_uppercase(\"Ingrese el nombre del nodo predecesor: \")\n",
    "            pred_dur = get_float(f\"Ingrese la duración de la actividad (nodo) {pred}: \")\n",
    "            if pred in pred_mapping:\n",
    "                i_val = pred_mapping[pred]\n",
    "            else:\n",
    "                print(f\"Advertencia: Predecesor {pred} no encontrado. Se usará INICIO por defecto.\")\n",
    "                i_val = pred_mapping[\"INICIO\"]\n",
    "            filas.append({\n",
    "                \"Nodo\": nodo,\n",
    "                \"Par ordenado (i,j)\": f\"({i_val},{new_j})\",\n",
    "                \"Tiempo de actividad (t_i)\": duracion,\n",
    "                \"Predecesor\": f\"{pred} (dur: {pred_dur})\",\n",
    "                \"Actividad\": actividad\n",
    "            })\n",
    "        elif num_predecesores >= 2:\n",
    "            # Si hay 2 o más predecesores, para cada uno se solicita primero el nombre y después la duración.\n",
    "            for i in range(num_predecesores):\n",
    "                pred = get_uppercase(f\"Ingrese el nombre del nodo predecesor {i+1}: \")\n",
    "                pred_dur = get_float(f\"Ingrese la duración de la actividad (nodo) {pred}: \")\n",
    "                if pred in pred_mapping:\n",
    "                    i_val = pred_mapping[pred]\n",
    "                else:\n",
    "                    print(f\"Advertencia: Predecesor {pred} no encontrado. Se usará INICIO por defecto.\")\n",
    "                    i_val = pred_mapping[\"INICIO\"]\n",
    "                filas.append({\n",
    "                    \"Nodo\": nodo,\n",
    "                    \"Par ordenado (i,j)\": f\"({i_val},{new_j})\",\n",
    "                    \"Tiempo de actividad (t_i)\": duracion,\n",
    "                    \"Predecesor\": f\"{pred} (dur: {pred_dur})\",\n",
    "                    \"Actividad\": actividad\n",
    "                })\n",
    "        \n",
    "        # Se actualiza el diccionario con el \"j\" asignado a este nodo y se actualiza el contador global.\n",
    "        # Esto es importante para que luego las actividades que dependan de este nodo tomen su \"j\" correcto.\n",
    "        pred_mapping[nodo] = new_j\n",
    "        current_j = new_j\n",
    "    \n",
    "    # Nodo FINAL: se asigna tomando la \"j\" del nodo (actividad) predecesor.\n",
    "    print(\"\\n--- Nodo FINAL ---\")\n",
    "    final_actividad = get_string(\"Ingrese el nombre de la actividad para el nodo FINAL: \")\n",
    "    # Se toma como predecesor el último nodo ingresado (recordar: aquí debe ser el nodo anterior, por ejemplo, \"J\")\n",
    "    final_predecesor = nodo if num_nodos > 0 else \"INICIO\"\n",
    "    final_j = pred_mapping[final_predecesor]\n",
    "    filas.append({\n",
    "        \"Nodo\": \"FINAL\",\n",
    "        \"Par ordenado (i,j)\": f\"({final_j},{final_j})\",\n",
    "        \"Tiempo de actividad (t_i)\": 0,\n",
    "        \"Predecesor\": final_predecesor,\n",
    "        \"Actividad\": final_actividad\n",
    "    })\n",
    "    \n",
    "    # Se escribe toda la información en un archivo CSV\n",
    "    nombre_archivo = \"actividades.csv\"\n",
    "    with open(nombre_archivo, mode='w', newline='', encoding='utf-8') as archivo_csv:\n",
    "        campos = [\"Nodo\", \"Par ordenado (i,j)\", \"Tiempo de actividad (t_i)\", \"Predecesor\", \"Actividad\"]\n",
    "        escritor = csv.DictWriter(archivo_csv, fieldnames=campos)\n",
    "        escritor.writeheader()\n",
    "        for fila in filas:\n",
    "            escritor.writerow(fila)\n",
    "    \n",
    "    print(f\"\\nLa información se ha guardado correctamente en el archivo '{nombre_archivo}'.\")\n",
    "\n",
    "if __name__ == \"__main__\":\n",
    "    main()\n"
   ]
  },
  {
   "cell_type": "code",
   "execution_count": null,
   "id": "7406d1c7-a26a-4175-932f-ecab876c83dd",
   "metadata": {},
   "outputs": [],
   "source": []
  }
 ],
 "metadata": {
  "kernelspec": {
   "display_name": "Python 3 (ipykernel)",
   "language": "python",
   "name": "python3"
  },
  "language_info": {
   "codemirror_mode": {
    "name": "ipython",
    "version": 3
   },
   "file_extension": ".py",
   "mimetype": "text/x-python",
   "name": "python",
   "nbconvert_exporter": "python",
   "pygments_lexer": "ipython3",
   "version": "3.13.2"
  }
 },
 "nbformat": 4,
 "nbformat_minor": 5
}
