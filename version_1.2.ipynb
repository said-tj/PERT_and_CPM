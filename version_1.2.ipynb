{
 "cells": [
  {
   "cell_type": "code",
   "execution_count": 2,
   "id": "b5ece326-4b5f-4a94-9709-bf99e81bfc18",
   "metadata": {},
   "outputs": [
    {
     "name": "stdin",
     "output_type": "stream",
     "text": [
      "Ingrese el número de actividades (nodos):  5\n"
     ]
    },
    {
     "name": "stdout",
     "output_type": "stream",
     "text": [
      "\n",
      "--- Ingresando datos para la actividad 1 ---\n"
     ]
    },
    {
     "name": "stdin",
     "output_type": "stream",
     "text": [
      "Ingrese el nombre del nodo (solo letras mayúsculas):  A\n",
      "Ingrese el nombre de la actividad:  PRIMERA\n",
      "Ingrese el número de nodos predecesores (0 significa que depende de INICIO):  0\n",
      "Ingrese la duración de la actividad:  12\n"
     ]
    },
    {
     "name": "stdout",
     "output_type": "stream",
     "text": [
      "\n",
      "--- Ingresando datos para la actividad 2 ---\n"
     ]
    },
    {
     "name": "stdin",
     "output_type": "stream",
     "text": [
      "Ingrese el nombre del nodo (solo letras mayúsculas):  B\n",
      "Ingrese el nombre de la actividad:  SEGUNDA\n",
      "Ingrese el número de nodos predecesores (0 significa que depende de INICIO):  1\n",
      "Ingrese el nombre del nodo predecesor:  A\n",
      "Ingrese la duración de la actividad:  2\n"
     ]
    },
    {
     "name": "stdout",
     "output_type": "stream",
     "text": [
      "\n",
      "--- Ingresando datos para la actividad 3 ---\n"
     ]
    },
    {
     "name": "stdin",
     "output_type": "stream",
     "text": [
      "Ingrese el nombre del nodo (solo letras mayúsculas):  C\n",
      "Ingrese el nombre de la actividad:  TERCERA\n",
      "Ingrese el número de nodos predecesores (0 significa que depende de INICIO):  1\n",
      "Ingrese el nombre del nodo predecesor:  B\n",
      "Ingrese la duración de la actividad:  5\n"
     ]
    },
    {
     "name": "stdout",
     "output_type": "stream",
     "text": [
      "\n",
      "--- Ingresando datos para la actividad 4 ---\n"
     ]
    },
    {
     "name": "stdin",
     "output_type": "stream",
     "text": [
      "Ingrese el nombre del nodo (solo letras mayúsculas):  D\n",
      "Ingrese el nombre de la actividad:  CUARTA\n",
      "Ingrese el número de nodos predecesores (0 significa que depende de INICIO):  1\n",
      "Ingrese el nombre del nodo predecesor:  B\n",
      "Ingrese la duración de la actividad:  6\n"
     ]
    },
    {
     "name": "stdout",
     "output_type": "stream",
     "text": [
      "\n",
      "--- Ingresando datos para la actividad 5 ---\n"
     ]
    },
    {
     "name": "stdin",
     "output_type": "stream",
     "text": [
      "Ingrese el nombre del nodo (solo letras mayúsculas):  E\n",
      "Ingrese el nombre de la actividad:  QUINTA\n",
      "Ingrese el número de nodos predecesores (0 significa que depende de INICIO):  2\n",
      "Ingrese el nombre del nodo predecesor 1:  C\n",
      "Ingrese la duración de la actividad del predecesor C:  14\n",
      "Ingrese el nombre del nodo predecesor 2:  D\n",
      "Ingrese la duración de la actividad del predecesor D:  11\n"
     ]
    },
    {
     "name": "stdout",
     "output_type": "stream",
     "text": [
      "\n",
      "La información se ha guardado correctamente en el archivo 'actividades.csv'.\n"
     ]
    }
   ],
   "source": [
    "import csv\n",
    "\n",
    "def get_int(prompt):\n",
    "    while True:\n",
    "        try:\n",
    "            value = int(input(prompt))\n",
    "            return value\n",
    "        except ValueError:\n",
    "            print(\"Error: Ingrese un valor entero.\")\n",
    "\n",
    "def get_float(prompt):\n",
    "    while True:\n",
    "        try:\n",
    "            value = float(input(prompt))\n",
    "            return value\n",
    "        except ValueError:\n",
    "            print(\"Error: Ingrese un valor numérico (Integer o Float).\")\n",
    "\n",
    "def get_uppercase(prompt):\n",
    "    while True:\n",
    "        value = input(prompt).strip()\n",
    "        if value.isalpha() and value.upper() == value:\n",
    "            return value\n",
    "        else:\n",
    "            print(\"Error: Ingrese solo letras mayúsculas.\")\n",
    "\n",
    "def main():\n",
    "    # Lista donde se almacenarán las filas para el CSV\n",
    "    filas = []\n",
    "    \n",
    "    # Diccionario para llevar el conteo de hijos asignados a cada nodo predecesor\n",
    "    hijos_contador = {}\n",
    "    # Diccionario para guardar el último \"j\" (segundo elemento del par) de cada nodo\n",
    "    ultimo_j = {}\n",
    "    \n",
    "    # Inicializamos el nodo INICIO\n",
    "    nodo_inicio = {\n",
    "        \"Nodo\": \"INICIO\",\n",
    "        \"Actividad\": \"INICIO\",\n",
    "        \"Predecesor\": \"\",\n",
    "        \"Tiempo de actividad\": 0,\n",
    "        \"Par ordenado\": \"(0,0)\"\n",
    "    }\n",
    "    filas.append(nodo_inicio)\n",
    "    hijos_contador[\"INICIO\"] = 0\n",
    "    ultimo_j[\"INICIO\"] = 0\n",
    "\n",
    "    # Solicitamos el número total de actividades (nodos intermedios)\n",
    "    num_actividades = get_int(\"Ingrese el número de actividades (nodos): \")\n",
    "\n",
    "    # Variable para recordar el nombre del último nodo ingresado (para FIN)\n",
    "    ultimo_nodo = None\n",
    "\n",
    "    # Procesamos cada actividad\n",
    "    for idx in range(num_actividades):\n",
    "        print(f\"\\n--- Ingresando datos para la actividad {idx+1} ---\")\n",
    "        nodo = get_uppercase(\"Ingrese el nombre del nodo (solo letras mayúsculas): \")\n",
    "        actividad = input(\"Ingrese el nombre de la actividad: \").strip()\n",
    "        ultimo_nodo = nodo  # Actualizamos el último nodo ingresado\n",
    "\n",
    "        num_pred = get_int(\"Ingrese el número de nodos predecesores (0 significa que depende de INICIO): \")\n",
    "        \n",
    "        # Caso: Si se ingresa 0, se asigna INICIO como predecesor y se pide la duración de la actividad.\n",
    "        if num_pred == 0:\n",
    "            pred = \"INICIO\"\n",
    "            dur = get_float(\"Ingrese la duración de la actividad: \")\n",
    "            total_rel = 1  # Se trata como una relación única\n",
    "            \n",
    "            # Obtenemos el \"j\" del predecesor\n",
    "            base = ultimo_j[pred]\n",
    "            # Número de hijos ya asignados para este predecesor\n",
    "            cont = hijos_contador.get(pred, 0)\n",
    "            # Para una única relación se usa incremento 1\n",
    "            inc = 1\n",
    "            nuevo_j = base + (cont + 1) * inc\n",
    "            par = (base, nuevo_j)\n",
    "            hijos_contador[pred] = cont + 1\n",
    "            # Actualizamos el último \"j\" para el nodo actual\n",
    "            ultimo_j[nodo] = nuevo_j\n",
    "\n",
    "            filas.append({\n",
    "                \"Nodo\": nodo,\n",
    "                \"Actividad\": actividad,\n",
    "                \"Predecesor\": pred,\n",
    "                \"Tiempo de actividad\": dur,\n",
    "                \"Par ordenado\": f\"({par[0]},{par[1]})\"\n",
    "            })\n",
    "        \n",
    "        # Caso: Si se ingresa 1, se pide el nombre del predecesor y la duración de la actividad.\n",
    "        elif num_pred == 1:\n",
    "            pred = get_uppercase(\"Ingrese el nombre del nodo predecesor: \")\n",
    "            dur = get_float(\"Ingrese la duración de la actividad: \")\n",
    "            total_rel = 1\n",
    "\n",
    "            if pred not in ultimo_j:\n",
    "                print(f\"Advertencia: El nodo predecesor {pred} no ha sido definido. Se usará base 0.\")\n",
    "                base = 0\n",
    "                ultimo_j[pred] = 0\n",
    "                hijos_contador[pred] = 0\n",
    "            else:\n",
    "                base = ultimo_j[pred]\n",
    "            cont = hijos_contador.get(pred, 0)\n",
    "            # Para única relación se usa incremento 1\n",
    "            inc = 1\n",
    "            nuevo_j = base + (cont + 1) * inc\n",
    "            par = (base, nuevo_j)\n",
    "            hijos_contador[pred] = cont + 1\n",
    "            ultimo_j[nodo] = nuevo_j\n",
    "\n",
    "            filas.append({\n",
    "                \"Nodo\": nodo,\n",
    "                \"Actividad\": actividad,\n",
    "                \"Predecesor\": pred,\n",
    "                \"Tiempo de actividad\": dur,\n",
    "                \"Par ordenado\": f\"({par[0]},{par[1]})\"\n",
    "            })\n",
    "        \n",
    "        # Caso: Si se ingresa 2 o más, se pregunta para cada relación el nombre del predecesor y la duración.\n",
    "        elif num_pred >= 2:\n",
    "            # Aquí usaremos incremento 2 para cada relación de la actividad\n",
    "            for i in range(num_pred):\n",
    "                pred = get_uppercase(f\"Ingrese el nombre del nodo predecesor {i+1}: \")\n",
    "                dur = get_float(f\"Ingrese la duración de la actividad del predecesor {pred}: \")\n",
    "                if pred not in ultimo_j:\n",
    "                    print(f\"Advertencia: El nodo predecesor {pred} no ha sido definido. Se usará base 0.\")\n",
    "                    base = 0\n",
    "                    ultimo_j[pred] = 0\n",
    "                    hijos_contador[pred] = 0\n",
    "                else:\n",
    "                    base = ultimo_j[pred]\n",
    "                cont = hijos_contador.get(pred, 0)\n",
    "                inc = 2  # Para múltiples relaciones se usa incremento 2\n",
    "                nuevo_j = base + (cont + 1) * inc\n",
    "                par = (base, nuevo_j)\n",
    "                hijos_contador[pred] = cont + 1\n",
    "                # Si la actividad ya se ingresó con otra relación, se guarda el mayor \"j\"\n",
    "                if nodo in ultimo_j:\n",
    "                    ultimo_j[nodo] = max(ultimo_j[nodo], nuevo_j)\n",
    "                else:\n",
    "                    ultimo_j[nodo] = nuevo_j\n",
    "\n",
    "                filas.append({\n",
    "                    \"Nodo\": nodo,\n",
    "                    \"Actividad\": actividad,\n",
    "                    \"Predecesor\": pred,\n",
    "                    \"Tiempo de actividad\": dur,\n",
    "                    \"Par ordenado\": f\"({par[0]},{par[1]})\"\n",
    "                })\n",
    "    \n",
    "    # Se determina el mayor \"j\" asignado para definir el nodo FIN\n",
    "    max_j = max(ultimo_j.values())\n",
    "    # Se asume que FIN depende del último nodo ingresado\n",
    "    nodo_fin = {\n",
    "        \"Nodo\": \"FIN\",\n",
    "        \"Actividad\": \"FIN\",\n",
    "        \"Predecesor\": ultimo_nodo if ultimo_nodo else \"\",\n",
    "        \"Tiempo de actividad\": 0,\n",
    "        \"Par ordenado\": f\"({max_j},{max_j})\"\n",
    "    }\n",
    "    filas.append(nodo_fin)\n",
    "    \n",
    "    # Se guarda la información en un archivo CSV\n",
    "    nombre_archivo = \"actividades.csv\"\n",
    "    with open(nombre_archivo, mode='w', newline='', encoding='utf-8') as archivo:\n",
    "        campos = [\"Nodo\", \"Actividad\", \"Predecesor\", \"Tiempo de actividad\", \"Par ordenado\"]\n",
    "        escritor = csv.DictWriter(archivo, fieldnames=campos)\n",
    "        escritor.writeheader()\n",
    "        for fila in filas:\n",
    "            escritor.writerow(fila)\n",
    "    \n",
    "    print(f\"\\nLa información se ha guardado correctamente en el archivo '{nombre_archivo}'.\")\n",
    "\n",
    "if __name__ == \"__main__\":\n",
    "    main()\n"
   ]
  },
  {
   "cell_type": "code",
   "execution_count": null,
   "id": "fccbe85d-2f97-4317-bc1b-2354d45c6f4f",
   "metadata": {},
   "outputs": [],
   "source": []
  }
 ],
 "metadata": {
  "kernelspec": {
   "display_name": "Python 3 (ipykernel)",
   "language": "python",
   "name": "python3"
  },
  "language_info": {
   "codemirror_mode": {
    "name": "ipython",
    "version": 3
   },
   "file_extension": ".py",
   "mimetype": "text/x-python",
   "name": "python",
   "nbconvert_exporter": "python",
   "pygments_lexer": "ipython3",
   "version": "3.13.2"
  }
 },
 "nbformat": 4,
 "nbformat_minor": 5
}
